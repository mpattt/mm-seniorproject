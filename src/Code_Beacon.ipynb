{
  "nbformat": 4,
  "nbformat_minor": 0,
  "metadata": {
    "colab": {
      "name": "Code Beacon",
      "version": "0.3.2",
      "provenance": [],
      "collapsed_sections": [],
      "toc_visible": true
    },
    "kernelspec": {
      "name": "python3",
      "display_name": "Python 3"
    },
    "accelerator": "GPU"
  },
  "cells": [
    {
      "metadata": {
        "id": "yXeEz6IzFNdW",
        "colab_type": "text"
      },
      "cell_type": "markdown",
      "source": [
        "# Set up"
      ]
    },
    {
      "metadata": {
        "id": "0UMFT16pt5yJ",
        "colab_type": "code",
        "outputId": "17f54975-3eb1-407c-9bc9-2ef3fec4f0d5",
        "colab": {
          "base_uri": "https://localhost:8080/",
          "height": 122
        }
      },
      "cell_type": "code",
      "source": [
        "from google.colab import drive\n",
        "drive.mount('/content/drive/')"
      ],
      "execution_count": 0,
      "outputs": [
        {
          "output_type": "stream",
          "text": [
            "Go to this URL in a browser: https://accounts.google.com/o/oauth2/auth?client_id=947318989803-6bn6qk8qdgf4n4g3pfee6491hc0brc4i.apps.googleusercontent.com&redirect_uri=urn%3Aietf%3Awg%3Aoauth%3A2.0%3Aoob&scope=email%20https%3A%2F%2Fwww.googleapis.com%2Fauth%2Fdocs.test%20https%3A%2F%2Fwww.googleapis.com%2Fauth%2Fdrive%20https%3A%2F%2Fwww.googleapis.com%2Fauth%2Fdrive.photos.readonly%20https%3A%2F%2Fwww.googleapis.com%2Fauth%2Fpeopleapi.readonly&response_type=code\n",
            "\n",
            "Enter your authorization code:\n",
            "··········\n",
            "Mounted at /content/drive/\n"
          ],
          "name": "stdout"
        }
      ]
    },
    {
      "metadata": {
        "id": "rOSTtVkCxQ0f",
        "colab_type": "code",
        "colab": {}
      },
      "cell_type": "code",
      "source": [
        "import pandas as pd\n",
        "import math\n",
        "import numpy as np\n",
        "from datetime import timedelta\n",
        "\n",
        "# Classification\n",
        "from sklearn import metrics\n",
        "from sklearn.ensemble import RandomForestClassifier\n",
        "from sklearn.neighbors import KNeighborsClassifier\n",
        "from sklearn.svm import SVC\n",
        "from sklearn.metrics import accuracy_score\n",
        "\n",
        "# Plotting \n",
        "from mlxtend.plotting import plot_learning_curves\n",
        "import matplotlib\n",
        "import matplotlib.pyplot as plt\n",
        "%matplotlib inline\n",
        "\n",
        "import warnings\n",
        "warnings.filterwarnings('ignore')"
      ],
      "execution_count": 0,
      "outputs": []
    },
    {
      "metadata": {
        "id": "K7Vbn3EkCx3G",
        "colab_type": "text"
      },
      "cell_type": "markdown",
      "source": [
        "# Prepare Data"
      ]
    },
    {
      "metadata": {
        "id": "42ctn_1rHpqU",
        "colab_type": "code",
        "outputId": "6974cb13-8535-4454-85cf-aa5a45939416",
        "colab": {
          "base_uri": "https://localhost:8080/",
          "height": 204
        }
      },
      "cell_type": "code",
      "source": [
        "header=['timestamp','rssi1','rssi2','rssi3']\n",
        "df = pd.read_csv('/beacon/beaconexport.csv',names=header,skiprows=1,usecols=[1,2,3,4])\n",
        "df.head()"
      ],
      "execution_count": 0,
      "outputs": [
        {
          "output_type": "execute_result",
          "data": {
            "text/html": [
              "<div>\n",
              "<style scoped>\n",
              "    .dataframe tbody tr th:only-of-type {\n",
              "        vertical-align: middle;\n",
              "    }\n",
              "\n",
              "    .dataframe tbody tr th {\n",
              "        vertical-align: top;\n",
              "    }\n",
              "\n",
              "    .dataframe thead th {\n",
              "        text-align: right;\n",
              "    }\n",
              "</style>\n",
              "<table border=\"1\" class=\"dataframe\">\n",
              "  <thead>\n",
              "    <tr style=\"text-align: right;\">\n",
              "      <th></th>\n",
              "      <th>timestamp</th>\n",
              "      <th>rssi1</th>\n",
              "      <th>rssi2</th>\n",
              "      <th>rssi3</th>\n",
              "    </tr>\n",
              "  </thead>\n",
              "  <tbody>\n",
              "    <tr>\n",
              "      <th>0</th>\n",
              "      <td>1548657361362</td>\n",
              "      <td>-83</td>\n",
              "      <td>-83</td>\n",
              "      <td>-95</td>\n",
              "    </tr>\n",
              "    <tr>\n",
              "      <th>1</th>\n",
              "      <td>1548657362479</td>\n",
              "      <td>-83</td>\n",
              "      <td>-81</td>\n",
              "      <td>-93</td>\n",
              "    </tr>\n",
              "    <tr>\n",
              "      <th>2</th>\n",
              "      <td>1548657365848</td>\n",
              "      <td>-77</td>\n",
              "      <td>-86</td>\n",
              "      <td>-96</td>\n",
              "    </tr>\n",
              "    <tr>\n",
              "      <th>3</th>\n",
              "      <td>1548657366962</td>\n",
              "      <td>-83</td>\n",
              "      <td>-82</td>\n",
              "      <td>-89</td>\n",
              "    </tr>\n",
              "    <tr>\n",
              "      <th>4</th>\n",
              "      <td>1548657368092</td>\n",
              "      <td>-80</td>\n",
              "      <td>-89</td>\n",
              "      <td>-90</td>\n",
              "    </tr>\n",
              "  </tbody>\n",
              "</table>\n",
              "</div>"
            ],
            "text/plain": [
              "       timestamp  rssi1  rssi2  rssi3\n",
              "0  1548657361362    -83    -83    -95\n",
              "1  1548657362479    -83    -81    -93\n",
              "2  1548657365848    -77    -86    -96\n",
              "3  1548657366962    -83    -82    -89\n",
              "4  1548657368092    -80    -89    -90"
            ]
          },
          "metadata": {
            "tags": []
          },
          "execution_count": 10
        }
      ]
    },
    {
      "metadata": {
        "id": "Q1iP9MHeQQN7",
        "colab_type": "code",
        "outputId": "7c1b5b0f-4096-413c-cc59-e65b7b4b8b40",
        "colab": {
          "base_uri": "https://localhost:8080/",
          "height": 204
        }
      },
      "cell_type": "code",
      "source": [
        "header=['block','lastid','x','y']\n",
        "train = pd.read_csv('/beacon/traindatacollect.csv',names=header,skiprows=1,usecols=[0,1,4,5])\n",
        "train = train.dropna()\n",
        "train['lastid'] = train.lastid.astype(int)\n",
        "train.head()"
      ],
      "execution_count": 0,
      "outputs": [
        {
          "output_type": "execute_result",
          "data": {
            "text/html": [
              "<div>\n",
              "<style scoped>\n",
              "    .dataframe tbody tr th:only-of-type {\n",
              "        vertical-align: middle;\n",
              "    }\n",
              "\n",
              "    .dataframe tbody tr th {\n",
              "        vertical-align: top;\n",
              "    }\n",
              "\n",
              "    .dataframe thead th {\n",
              "        text-align: right;\n",
              "    }\n",
              "</style>\n",
              "<table border=\"1\" class=\"dataframe\">\n",
              "  <thead>\n",
              "    <tr style=\"text-align: right;\">\n",
              "      <th></th>\n",
              "      <th>block</th>\n",
              "      <th>lastid</th>\n",
              "      <th>x</th>\n",
              "      <th>y</th>\n",
              "    </tr>\n",
              "  </thead>\n",
              "  <tbody>\n",
              "    <tr>\n",
              "      <th>0</th>\n",
              "      <td>1</td>\n",
              "      <td>1548657400588</td>\n",
              "      <td>1.05</td>\n",
              "      <td>16.80</td>\n",
              "    </tr>\n",
              "    <tr>\n",
              "      <th>1</th>\n",
              "      <td>2</td>\n",
              "      <td>1548657451207</td>\n",
              "      <td>2.10</td>\n",
              "      <td>16.80</td>\n",
              "    </tr>\n",
              "    <tr>\n",
              "      <th>2</th>\n",
              "      <td>3</td>\n",
              "      <td>1548657485046</td>\n",
              "      <td>2.10</td>\n",
              "      <td>17.85</td>\n",
              "    </tr>\n",
              "    <tr>\n",
              "      <th>3</th>\n",
              "      <td>4</td>\n",
              "      <td>1548657801766</td>\n",
              "      <td>3.15</td>\n",
              "      <td>16.80</td>\n",
              "    </tr>\n",
              "    <tr>\n",
              "      <th>4</th>\n",
              "      <td>5</td>\n",
              "      <td>1548657849829</td>\n",
              "      <td>3.15</td>\n",
              "      <td>17.85</td>\n",
              "    </tr>\n",
              "  </tbody>\n",
              "</table>\n",
              "</div>"
            ],
            "text/plain": [
              "   block         lastid     x      y\n",
              "0      1  1548657400588  1.05  16.80\n",
              "1      2  1548657451207  2.10  16.80\n",
              "2      3  1548657485046  2.10  17.85\n",
              "3      4  1548657801766  3.15  16.80\n",
              "4      5  1548657849829  3.15  17.85"
            ]
          },
          "metadata": {
            "tags": []
          },
          "execution_count": 11
        }
      ]
    },
    {
      "metadata": {
        "id": "0WUDJ4dWXXDs",
        "colab_type": "code",
        "colab": {}
      },
      "cell_type": "code",
      "source": [
        "data = []\n",
        "data_block = []\n",
        "timestamp = 0\n",
        "for index,row in train.iterrows():\n",
        "  time = row['lastid']\n",
        "  rowx = row['x']\n",
        "  rowy = row['y']\n",
        "  block = row['block']\n",
        "  for index2,row2 in df.iterrows():\n",
        "    if timestamp < row2['timestamp'] <= time:\n",
        "      row2['x'] = rowx\n",
        "      row2['y'] = rowy\n",
        "      row2['block'] = block\n",
        "      data_block.append(row2)\n",
        "      data.append(row2)\n",
        "  data_block = []\n",
        "  timestamp = time\n",
        "alldata = pd.DataFrame(data)\n"
      ],
      "execution_count": 0,
      "outputs": []
    },
    {
      "metadata": {
        "id": "-mBt35qFh_u1",
        "colab_type": "code",
        "colab": {}
      },
      "cell_type": "code",
      "source": [
        "alldata['rssi1'] = alldata.rssi1.astype(int)\n",
        "alldata['rssi2'] = alldata.rssi2.astype(int)\n",
        "alldata['rssi3'] = alldata.rssi3.astype(int)\n",
        "alldata['block'] = alldata.block.astype(int)"
      ],
      "execution_count": 0,
      "outputs": []
    },
    {
      "metadata": {
        "id": "2A1xscSuIEbn",
        "colab_type": "code",
        "outputId": "50c6048a-61cd-4112-8884-ff0ca7261fe1",
        "colab": {
          "base_uri": "https://localhost:8080/",
          "height": 1969
        }
      },
      "cell_type": "code",
      "source": [
        "alldata['timestamp'] = pd.to_datetime(alldata['timestamp'], unit='ms') + timedelta(hours=7)\n",
        "alldata"
      ],
      "execution_count": 0,
      "outputs": [
        {
          "output_type": "execute_result",
          "data": {
            "text/html": [
              "<div>\n",
              "<style scoped>\n",
              "    .dataframe tbody tr th:only-of-type {\n",
              "        vertical-align: middle;\n",
              "    }\n",
              "\n",
              "    .dataframe tbody tr th {\n",
              "        vertical-align: top;\n",
              "    }\n",
              "\n",
              "    .dataframe thead th {\n",
              "        text-align: right;\n",
              "    }\n",
              "</style>\n",
              "<table border=\"1\" class=\"dataframe\">\n",
              "  <thead>\n",
              "    <tr style=\"text-align: right;\">\n",
              "      <th></th>\n",
              "      <th>timestamp</th>\n",
              "      <th>rssi1</th>\n",
              "      <th>rssi2</th>\n",
              "      <th>rssi3</th>\n",
              "      <th>x</th>\n",
              "      <th>y</th>\n",
              "      <th>block</th>\n",
              "    </tr>\n",
              "  </thead>\n",
              "  <tbody>\n",
              "    <tr>\n",
              "      <th>0</th>\n",
              "      <td>2019-01-28 13:36:01.362</td>\n",
              "      <td>-83</td>\n",
              "      <td>-83</td>\n",
              "      <td>-95</td>\n",
              "      <td>1.05</td>\n",
              "      <td>16.80</td>\n",
              "      <td>1</td>\n",
              "    </tr>\n",
              "    <tr>\n",
              "      <th>1</th>\n",
              "      <td>2019-01-28 13:36:02.479</td>\n",
              "      <td>-83</td>\n",
              "      <td>-81</td>\n",
              "      <td>-93</td>\n",
              "      <td>1.05</td>\n",
              "      <td>16.80</td>\n",
              "      <td>1</td>\n",
              "    </tr>\n",
              "    <tr>\n",
              "      <th>2</th>\n",
              "      <td>2019-01-28 13:36:05.848</td>\n",
              "      <td>-77</td>\n",
              "      <td>-86</td>\n",
              "      <td>-96</td>\n",
              "      <td>1.05</td>\n",
              "      <td>16.80</td>\n",
              "      <td>1</td>\n",
              "    </tr>\n",
              "    <tr>\n",
              "      <th>3</th>\n",
              "      <td>2019-01-28 13:36:06.962</td>\n",
              "      <td>-83</td>\n",
              "      <td>-82</td>\n",
              "      <td>-89</td>\n",
              "      <td>1.05</td>\n",
              "      <td>16.80</td>\n",
              "      <td>1</td>\n",
              "    </tr>\n",
              "    <tr>\n",
              "      <th>4</th>\n",
              "      <td>2019-01-28 13:36:08.092</td>\n",
              "      <td>-80</td>\n",
              "      <td>-89</td>\n",
              "      <td>-90</td>\n",
              "      <td>1.05</td>\n",
              "      <td>16.80</td>\n",
              "      <td>1</td>\n",
              "    </tr>\n",
              "    <tr>\n",
              "      <th>5</th>\n",
              "      <td>2019-01-28 13:36:09.218</td>\n",
              "      <td>-78</td>\n",
              "      <td>-84</td>\n",
              "      <td>-91</td>\n",
              "      <td>1.05</td>\n",
              "      <td>16.80</td>\n",
              "      <td>1</td>\n",
              "    </tr>\n",
              "    <tr>\n",
              "      <th>6</th>\n",
              "      <td>2019-01-28 13:36:10.345</td>\n",
              "      <td>-76</td>\n",
              "      <td>-85</td>\n",
              "      <td>-91</td>\n",
              "      <td>1.05</td>\n",
              "      <td>16.80</td>\n",
              "      <td>1</td>\n",
              "    </tr>\n",
              "    <tr>\n",
              "      <th>7</th>\n",
              "      <td>2019-01-28 13:36:11.459</td>\n",
              "      <td>-79</td>\n",
              "      <td>-85</td>\n",
              "      <td>-91</td>\n",
              "      <td>1.05</td>\n",
              "      <td>16.80</td>\n",
              "      <td>1</td>\n",
              "    </tr>\n",
              "    <tr>\n",
              "      <th>8</th>\n",
              "      <td>2019-01-28 13:36:14.845</td>\n",
              "      <td>-83</td>\n",
              "      <td>-87</td>\n",
              "      <td>-94</td>\n",
              "      <td>1.05</td>\n",
              "      <td>16.80</td>\n",
              "      <td>1</td>\n",
              "    </tr>\n",
              "    <tr>\n",
              "      <th>9</th>\n",
              "      <td>2019-01-28 13:36:24.919</td>\n",
              "      <td>-75</td>\n",
              "      <td>-88</td>\n",
              "      <td>-90</td>\n",
              "      <td>1.05</td>\n",
              "      <td>16.80</td>\n",
              "      <td>1</td>\n",
              "    </tr>\n",
              "    <tr>\n",
              "      <th>10</th>\n",
              "      <td>2019-01-28 13:36:26.030</td>\n",
              "      <td>-74</td>\n",
              "      <td>-89</td>\n",
              "      <td>-88</td>\n",
              "      <td>1.05</td>\n",
              "      <td>16.80</td>\n",
              "      <td>1</td>\n",
              "    </tr>\n",
              "    <tr>\n",
              "      <th>11</th>\n",
              "      <td>2019-01-28 13:36:27.143</td>\n",
              "      <td>-82</td>\n",
              "      <td>-95</td>\n",
              "      <td>-100</td>\n",
              "      <td>1.05</td>\n",
              "      <td>16.80</td>\n",
              "      <td>1</td>\n",
              "    </tr>\n",
              "    <tr>\n",
              "      <th>12</th>\n",
              "      <td>2019-01-28 13:36:29.385</td>\n",
              "      <td>-85</td>\n",
              "      <td>-94</td>\n",
              "      <td>-93</td>\n",
              "      <td>1.05</td>\n",
              "      <td>16.80</td>\n",
              "      <td>1</td>\n",
              "    </tr>\n",
              "    <tr>\n",
              "      <th>13</th>\n",
              "      <td>2019-01-28 13:36:30.515</td>\n",
              "      <td>-84</td>\n",
              "      <td>-94</td>\n",
              "      <td>-94</td>\n",
              "      <td>1.05</td>\n",
              "      <td>16.80</td>\n",
              "      <td>1</td>\n",
              "    </tr>\n",
              "    <tr>\n",
              "      <th>14</th>\n",
              "      <td>2019-01-28 13:36:31.625</td>\n",
              "      <td>-83</td>\n",
              "      <td>-93</td>\n",
              "      <td>-93</td>\n",
              "      <td>1.05</td>\n",
              "      <td>16.80</td>\n",
              "      <td>1</td>\n",
              "    </tr>\n",
              "    <tr>\n",
              "      <th>15</th>\n",
              "      <td>2019-01-28 13:36:39.475</td>\n",
              "      <td>-75</td>\n",
              "      <td>-82</td>\n",
              "      <td>-91</td>\n",
              "      <td>1.05</td>\n",
              "      <td>16.80</td>\n",
              "      <td>1</td>\n",
              "    </tr>\n",
              "    <tr>\n",
              "      <th>16</th>\n",
              "      <td>2019-01-28 13:36:40.588</td>\n",
              "      <td>-76</td>\n",
              "      <td>-87</td>\n",
              "      <td>-91</td>\n",
              "      <td>1.05</td>\n",
              "      <td>16.80</td>\n",
              "      <td>1</td>\n",
              "    </tr>\n",
              "    <tr>\n",
              "      <th>17</th>\n",
              "      <td>2019-01-28 13:37:00.995</td>\n",
              "      <td>-74</td>\n",
              "      <td>-83</td>\n",
              "      <td>-91</td>\n",
              "      <td>2.10</td>\n",
              "      <td>16.80</td>\n",
              "      <td>2</td>\n",
              "    </tr>\n",
              "    <tr>\n",
              "      <th>18</th>\n",
              "      <td>2019-01-28 13:37:02.108</td>\n",
              "      <td>-75</td>\n",
              "      <td>-85</td>\n",
              "      <td>-89</td>\n",
              "      <td>2.10</td>\n",
              "      <td>16.80</td>\n",
              "      <td>2</td>\n",
              "    </tr>\n",
              "    <tr>\n",
              "      <th>19</th>\n",
              "      <td>2019-01-28 13:37:03.219</td>\n",
              "      <td>-75</td>\n",
              "      <td>-91</td>\n",
              "      <td>-92</td>\n",
              "      <td>2.10</td>\n",
              "      <td>16.80</td>\n",
              "      <td>2</td>\n",
              "    </tr>\n",
              "    <tr>\n",
              "      <th>20</th>\n",
              "      <td>2019-01-28 13:37:04.347</td>\n",
              "      <td>-74</td>\n",
              "      <td>-94</td>\n",
              "      <td>-93</td>\n",
              "      <td>2.10</td>\n",
              "      <td>16.80</td>\n",
              "      <td>2</td>\n",
              "    </tr>\n",
              "    <tr>\n",
              "      <th>21</th>\n",
              "      <td>2019-01-28 13:37:05.476</td>\n",
              "      <td>-75</td>\n",
              "      <td>-89</td>\n",
              "      <td>-91</td>\n",
              "      <td>2.10</td>\n",
              "      <td>16.80</td>\n",
              "      <td>2</td>\n",
              "    </tr>\n",
              "    <tr>\n",
              "      <th>22</th>\n",
              "      <td>2019-01-28 13:37:08.813</td>\n",
              "      <td>-90</td>\n",
              "      <td>-95</td>\n",
              "      <td>-91</td>\n",
              "      <td>2.10</td>\n",
              "      <td>16.80</td>\n",
              "      <td>2</td>\n",
              "    </tr>\n",
              "    <tr>\n",
              "      <th>23</th>\n",
              "      <td>2019-01-28 13:37:09.941</td>\n",
              "      <td>-82</td>\n",
              "      <td>-94</td>\n",
              "      <td>-91</td>\n",
              "      <td>2.10</td>\n",
              "      <td>16.80</td>\n",
              "      <td>2</td>\n",
              "    </tr>\n",
              "    <tr>\n",
              "      <th>24</th>\n",
              "      <td>2019-01-28 13:37:14.407</td>\n",
              "      <td>-74</td>\n",
              "      <td>-83</td>\n",
              "      <td>-91</td>\n",
              "      <td>2.10</td>\n",
              "      <td>16.80</td>\n",
              "      <td>2</td>\n",
              "    </tr>\n",
              "    <tr>\n",
              "      <th>25</th>\n",
              "      <td>2019-01-28 13:37:20.017</td>\n",
              "      <td>-71</td>\n",
              "      <td>-92</td>\n",
              "      <td>-90</td>\n",
              "      <td>2.10</td>\n",
              "      <td>16.80</td>\n",
              "      <td>2</td>\n",
              "    </tr>\n",
              "    <tr>\n",
              "      <th>26</th>\n",
              "      <td>2019-01-28 13:37:21.129</td>\n",
              "      <td>-71</td>\n",
              "      <td>-92</td>\n",
              "      <td>-91</td>\n",
              "      <td>2.10</td>\n",
              "      <td>16.80</td>\n",
              "      <td>2</td>\n",
              "    </tr>\n",
              "    <tr>\n",
              "      <th>27</th>\n",
              "      <td>2019-01-28 13:37:24.499</td>\n",
              "      <td>-80</td>\n",
              "      <td>-92</td>\n",
              "      <td>-91</td>\n",
              "      <td>2.10</td>\n",
              "      <td>16.80</td>\n",
              "      <td>2</td>\n",
              "    </tr>\n",
              "    <tr>\n",
              "      <th>28</th>\n",
              "      <td>2019-01-28 13:37:27.853</td>\n",
              "      <td>-74</td>\n",
              "      <td>-83</td>\n",
              "      <td>-90</td>\n",
              "      <td>2.10</td>\n",
              "      <td>16.80</td>\n",
              "      <td>2</td>\n",
              "    </tr>\n",
              "    <tr>\n",
              "      <th>29</th>\n",
              "      <td>2019-01-28 13:37:28.982</td>\n",
              "      <td>-73</td>\n",
              "      <td>-82</td>\n",
              "      <td>-90</td>\n",
              "      <td>2.10</td>\n",
              "      <td>16.80</td>\n",
              "      <td>2</td>\n",
              "    </tr>\n",
              "    <tr>\n",
              "      <th>...</th>\n",
              "      <td>...</td>\n",
              "      <td>...</td>\n",
              "      <td>...</td>\n",
              "      <td>...</td>\n",
              "      <td>...</td>\n",
              "      <td>...</td>\n",
              "      <td>...</td>\n",
              "    </tr>\n",
              "    <tr>\n",
              "      <th>3183</th>\n",
              "      <td>2019-02-25 10:36:58.199</td>\n",
              "      <td>-93</td>\n",
              "      <td>-65</td>\n",
              "      <td>-96</td>\n",
              "      <td>34.65</td>\n",
              "      <td>10.50</td>\n",
              "      <td>196</td>\n",
              "    </tr>\n",
              "    <tr>\n",
              "      <th>3184</th>\n",
              "      <td>2019-02-25 10:37:11.573</td>\n",
              "      <td>-94</td>\n",
              "      <td>-74</td>\n",
              "      <td>-92</td>\n",
              "      <td>34.65</td>\n",
              "      <td>10.50</td>\n",
              "      <td>196</td>\n",
              "    </tr>\n",
              "    <tr>\n",
              "      <th>3185</th>\n",
              "      <td>2019-02-25 10:37:41.846</td>\n",
              "      <td>-91</td>\n",
              "      <td>-73</td>\n",
              "      <td>-93</td>\n",
              "      <td>34.65</td>\n",
              "      <td>10.50</td>\n",
              "      <td>196</td>\n",
              "    </tr>\n",
              "    <tr>\n",
              "      <th>3186</th>\n",
              "      <td>2019-02-25 10:37:50.788</td>\n",
              "      <td>-96</td>\n",
              "      <td>-72</td>\n",
              "      <td>-90</td>\n",
              "      <td>34.65</td>\n",
              "      <td>10.50</td>\n",
              "      <td>196</td>\n",
              "    </tr>\n",
              "    <tr>\n",
              "      <th>3187</th>\n",
              "      <td>2019-02-25 10:38:06.498</td>\n",
              "      <td>-92</td>\n",
              "      <td>-67</td>\n",
              "      <td>-93</td>\n",
              "      <td>34.65</td>\n",
              "      <td>10.50</td>\n",
              "      <td>196</td>\n",
              "    </tr>\n",
              "    <tr>\n",
              "      <th>3188</th>\n",
              "      <td>2019-02-25 10:38:16.584</td>\n",
              "      <td>-97</td>\n",
              "      <td>-74</td>\n",
              "      <td>-97</td>\n",
              "      <td>34.65</td>\n",
              "      <td>10.50</td>\n",
              "      <td>196</td>\n",
              "    </tr>\n",
              "    <tr>\n",
              "      <th>3189</th>\n",
              "      <td>2019-02-25 10:39:11.628</td>\n",
              "      <td>-95</td>\n",
              "      <td>-67</td>\n",
              "      <td>-91</td>\n",
              "      <td>34.65</td>\n",
              "      <td>10.50</td>\n",
              "      <td>196</td>\n",
              "    </tr>\n",
              "    <tr>\n",
              "      <th>3190</th>\n",
              "      <td>2019-02-25 10:40:15.363</td>\n",
              "      <td>-91</td>\n",
              "      <td>-66</td>\n",
              "      <td>-97</td>\n",
              "      <td>34.65</td>\n",
              "      <td>10.50</td>\n",
              "      <td>196</td>\n",
              "    </tr>\n",
              "    <tr>\n",
              "      <th>3191</th>\n",
              "      <td>2019-02-25 10:40:27.686</td>\n",
              "      <td>-95</td>\n",
              "      <td>-63</td>\n",
              "      <td>-93</td>\n",
              "      <td>34.65</td>\n",
              "      <td>10.50</td>\n",
              "      <td>196</td>\n",
              "    </tr>\n",
              "    <tr>\n",
              "      <th>3192</th>\n",
              "      <td>2019-02-25 10:40:42.300</td>\n",
              "      <td>-95</td>\n",
              "      <td>-72</td>\n",
              "      <td>-95</td>\n",
              "      <td>34.65</td>\n",
              "      <td>10.50</td>\n",
              "      <td>196</td>\n",
              "    </tr>\n",
              "    <tr>\n",
              "      <th>3193</th>\n",
              "      <td>2019-02-25 10:40:45.733</td>\n",
              "      <td>-98</td>\n",
              "      <td>-69</td>\n",
              "      <td>-95</td>\n",
              "      <td>34.65</td>\n",
              "      <td>10.50</td>\n",
              "      <td>196</td>\n",
              "    </tr>\n",
              "    <tr>\n",
              "      <th>3194</th>\n",
              "      <td>2019-02-25 10:42:11.908</td>\n",
              "      <td>-96</td>\n",
              "      <td>-67</td>\n",
              "      <td>-91</td>\n",
              "      <td>34.65</td>\n",
              "      <td>10.50</td>\n",
              "      <td>196</td>\n",
              "    </tr>\n",
              "    <tr>\n",
              "      <th>3195</th>\n",
              "      <td>2019-02-25 10:42:13.020</td>\n",
              "      <td>-93</td>\n",
              "      <td>-65</td>\n",
              "      <td>-92</td>\n",
              "      <td>34.65</td>\n",
              "      <td>10.50</td>\n",
              "      <td>196</td>\n",
              "    </tr>\n",
              "    <tr>\n",
              "      <th>3196</th>\n",
              "      <td>2019-02-25 10:42:15.243</td>\n",
              "      <td>-96</td>\n",
              "      <td>-71</td>\n",
              "      <td>-92</td>\n",
              "      <td>34.65</td>\n",
              "      <td>10.50</td>\n",
              "      <td>196</td>\n",
              "    </tr>\n",
              "    <tr>\n",
              "      <th>3197</th>\n",
              "      <td>2019-02-25 10:42:29.810</td>\n",
              "      <td>-97</td>\n",
              "      <td>-77</td>\n",
              "      <td>-90</td>\n",
              "      <td>34.65</td>\n",
              "      <td>10.50</td>\n",
              "      <td>196</td>\n",
              "    </tr>\n",
              "    <tr>\n",
              "      <th>3198</th>\n",
              "      <td>2019-02-25 12:02:33.664</td>\n",
              "      <td>-95</td>\n",
              "      <td>-64</td>\n",
              "      <td>-96</td>\n",
              "      <td>34.65</td>\n",
              "      <td>9.45</td>\n",
              "      <td>204</td>\n",
              "    </tr>\n",
              "    <tr>\n",
              "      <th>3199</th>\n",
              "      <td>2019-02-25 12:04:01.293</td>\n",
              "      <td>-96</td>\n",
              "      <td>-68</td>\n",
              "      <td>-95</td>\n",
              "      <td>34.65</td>\n",
              "      <td>9.45</td>\n",
              "      <td>204</td>\n",
              "    </tr>\n",
              "    <tr>\n",
              "      <th>3200</th>\n",
              "      <td>2019-02-25 12:04:14.716</td>\n",
              "      <td>-95</td>\n",
              "      <td>-75</td>\n",
              "      <td>-98</td>\n",
              "      <td>34.65</td>\n",
              "      <td>9.45</td>\n",
              "      <td>204</td>\n",
              "    </tr>\n",
              "    <tr>\n",
              "      <th>3201</th>\n",
              "      <td>2019-02-25 12:04:15.824</td>\n",
              "      <td>-93</td>\n",
              "      <td>-69</td>\n",
              "      <td>-94</td>\n",
              "      <td>34.65</td>\n",
              "      <td>9.45</td>\n",
              "      <td>204</td>\n",
              "    </tr>\n",
              "    <tr>\n",
              "      <th>3202</th>\n",
              "      <td>2019-02-25 12:04:16.934</td>\n",
              "      <td>-94</td>\n",
              "      <td>-73</td>\n",
              "      <td>-97</td>\n",
              "      <td>34.65</td>\n",
              "      <td>9.45</td>\n",
              "      <td>204</td>\n",
              "    </tr>\n",
              "    <tr>\n",
              "      <th>3203</th>\n",
              "      <td>2019-02-25 12:04:21.412</td>\n",
              "      <td>-94</td>\n",
              "      <td>-75</td>\n",
              "      <td>-95</td>\n",
              "      <td>34.65</td>\n",
              "      <td>9.45</td>\n",
              "      <td>204</td>\n",
              "    </tr>\n",
              "    <tr>\n",
              "      <th>3204</th>\n",
              "      <td>2019-02-25 12:04:27.002</td>\n",
              "      <td>-95</td>\n",
              "      <td>-71</td>\n",
              "      <td>-95</td>\n",
              "      <td>34.65</td>\n",
              "      <td>9.45</td>\n",
              "      <td>204</td>\n",
              "    </tr>\n",
              "    <tr>\n",
              "      <th>3205</th>\n",
              "      <td>2019-02-25 12:05:52.866</td>\n",
              "      <td>-95</td>\n",
              "      <td>-78</td>\n",
              "      <td>-98</td>\n",
              "      <td>34.65</td>\n",
              "      <td>9.45</td>\n",
              "      <td>204</td>\n",
              "    </tr>\n",
              "    <tr>\n",
              "      <th>3206</th>\n",
              "      <td>2019-02-25 12:05:53.976</td>\n",
              "      <td>-95</td>\n",
              "      <td>-73</td>\n",
              "      <td>-93</td>\n",
              "      <td>34.65</td>\n",
              "      <td>9.45</td>\n",
              "      <td>204</td>\n",
              "    </tr>\n",
              "    <tr>\n",
              "      <th>3207</th>\n",
              "      <td>2019-02-25 12:05:56.215</td>\n",
              "      <td>-94</td>\n",
              "      <td>-70</td>\n",
              "      <td>-96</td>\n",
              "      <td>34.65</td>\n",
              "      <td>9.45</td>\n",
              "      <td>204</td>\n",
              "    </tr>\n",
              "    <tr>\n",
              "      <th>3208</th>\n",
              "      <td>2019-02-25 12:05:57.344</td>\n",
              "      <td>-93</td>\n",
              "      <td>-82</td>\n",
              "      <td>-96</td>\n",
              "      <td>34.65</td>\n",
              "      <td>9.45</td>\n",
              "      <td>204</td>\n",
              "    </tr>\n",
              "    <tr>\n",
              "      <th>3209</th>\n",
              "      <td>2019-02-25 12:07:23.416</td>\n",
              "      <td>-95</td>\n",
              "      <td>-67</td>\n",
              "      <td>-92</td>\n",
              "      <td>34.65</td>\n",
              "      <td>9.45</td>\n",
              "      <td>204</td>\n",
              "    </tr>\n",
              "    <tr>\n",
              "      <th>3210</th>\n",
              "      <td>2019-02-25 12:07:24.544</td>\n",
              "      <td>-93</td>\n",
              "      <td>-66</td>\n",
              "      <td>-93</td>\n",
              "      <td>34.65</td>\n",
              "      <td>9.45</td>\n",
              "      <td>204</td>\n",
              "    </tr>\n",
              "    <tr>\n",
              "      <th>3211</th>\n",
              "      <td>2019-02-25 12:07:26.784</td>\n",
              "      <td>-94</td>\n",
              "      <td>-67</td>\n",
              "      <td>-92</td>\n",
              "      <td>34.65</td>\n",
              "      <td>9.45</td>\n",
              "      <td>204</td>\n",
              "    </tr>\n",
              "    <tr>\n",
              "      <th>3212</th>\n",
              "      <td>2019-02-25 12:08:14.836</td>\n",
              "      <td>-95</td>\n",
              "      <td>-66</td>\n",
              "      <td>-95</td>\n",
              "      <td>34.65</td>\n",
              "      <td>9.45</td>\n",
              "      <td>204</td>\n",
              "    </tr>\n",
              "  </tbody>\n",
              "</table>\n",
              "<p>3213 rows × 7 columns</p>\n",
              "</div>"
            ],
            "text/plain": [
              "                   timestamp  rssi1  rssi2  rssi3      x      y  block\n",
              "0    2019-01-28 13:36:01.362    -83    -83    -95   1.05  16.80      1\n",
              "1    2019-01-28 13:36:02.479    -83    -81    -93   1.05  16.80      1\n",
              "2    2019-01-28 13:36:05.848    -77    -86    -96   1.05  16.80      1\n",
              "3    2019-01-28 13:36:06.962    -83    -82    -89   1.05  16.80      1\n",
              "4    2019-01-28 13:36:08.092    -80    -89    -90   1.05  16.80      1\n",
              "5    2019-01-28 13:36:09.218    -78    -84    -91   1.05  16.80      1\n",
              "6    2019-01-28 13:36:10.345    -76    -85    -91   1.05  16.80      1\n",
              "7    2019-01-28 13:36:11.459    -79    -85    -91   1.05  16.80      1\n",
              "8    2019-01-28 13:36:14.845    -83    -87    -94   1.05  16.80      1\n",
              "9    2019-01-28 13:36:24.919    -75    -88    -90   1.05  16.80      1\n",
              "10   2019-01-28 13:36:26.030    -74    -89    -88   1.05  16.80      1\n",
              "11   2019-01-28 13:36:27.143    -82    -95   -100   1.05  16.80      1\n",
              "12   2019-01-28 13:36:29.385    -85    -94    -93   1.05  16.80      1\n",
              "13   2019-01-28 13:36:30.515    -84    -94    -94   1.05  16.80      1\n",
              "14   2019-01-28 13:36:31.625    -83    -93    -93   1.05  16.80      1\n",
              "15   2019-01-28 13:36:39.475    -75    -82    -91   1.05  16.80      1\n",
              "16   2019-01-28 13:36:40.588    -76    -87    -91   1.05  16.80      1\n",
              "17   2019-01-28 13:37:00.995    -74    -83    -91   2.10  16.80      2\n",
              "18   2019-01-28 13:37:02.108    -75    -85    -89   2.10  16.80      2\n",
              "19   2019-01-28 13:37:03.219    -75    -91    -92   2.10  16.80      2\n",
              "20   2019-01-28 13:37:04.347    -74    -94    -93   2.10  16.80      2\n",
              "21   2019-01-28 13:37:05.476    -75    -89    -91   2.10  16.80      2\n",
              "22   2019-01-28 13:37:08.813    -90    -95    -91   2.10  16.80      2\n",
              "23   2019-01-28 13:37:09.941    -82    -94    -91   2.10  16.80      2\n",
              "24   2019-01-28 13:37:14.407    -74    -83    -91   2.10  16.80      2\n",
              "25   2019-01-28 13:37:20.017    -71    -92    -90   2.10  16.80      2\n",
              "26   2019-01-28 13:37:21.129    -71    -92    -91   2.10  16.80      2\n",
              "27   2019-01-28 13:37:24.499    -80    -92    -91   2.10  16.80      2\n",
              "28   2019-01-28 13:37:27.853    -74    -83    -90   2.10  16.80      2\n",
              "29   2019-01-28 13:37:28.982    -73    -82    -90   2.10  16.80      2\n",
              "...                      ...    ...    ...    ...    ...    ...    ...\n",
              "3183 2019-02-25 10:36:58.199    -93    -65    -96  34.65  10.50    196\n",
              "3184 2019-02-25 10:37:11.573    -94    -74    -92  34.65  10.50    196\n",
              "3185 2019-02-25 10:37:41.846    -91    -73    -93  34.65  10.50    196\n",
              "3186 2019-02-25 10:37:50.788    -96    -72    -90  34.65  10.50    196\n",
              "3187 2019-02-25 10:38:06.498    -92    -67    -93  34.65  10.50    196\n",
              "3188 2019-02-25 10:38:16.584    -97    -74    -97  34.65  10.50    196\n",
              "3189 2019-02-25 10:39:11.628    -95    -67    -91  34.65  10.50    196\n",
              "3190 2019-02-25 10:40:15.363    -91    -66    -97  34.65  10.50    196\n",
              "3191 2019-02-25 10:40:27.686    -95    -63    -93  34.65  10.50    196\n",
              "3192 2019-02-25 10:40:42.300    -95    -72    -95  34.65  10.50    196\n",
              "3193 2019-02-25 10:40:45.733    -98    -69    -95  34.65  10.50    196\n",
              "3194 2019-02-25 10:42:11.908    -96    -67    -91  34.65  10.50    196\n",
              "3195 2019-02-25 10:42:13.020    -93    -65    -92  34.65  10.50    196\n",
              "3196 2019-02-25 10:42:15.243    -96    -71    -92  34.65  10.50    196\n",
              "3197 2019-02-25 10:42:29.810    -97    -77    -90  34.65  10.50    196\n",
              "3198 2019-02-25 12:02:33.664    -95    -64    -96  34.65   9.45    204\n",
              "3199 2019-02-25 12:04:01.293    -96    -68    -95  34.65   9.45    204\n",
              "3200 2019-02-25 12:04:14.716    -95    -75    -98  34.65   9.45    204\n",
              "3201 2019-02-25 12:04:15.824    -93    -69    -94  34.65   9.45    204\n",
              "3202 2019-02-25 12:04:16.934    -94    -73    -97  34.65   9.45    204\n",
              "3203 2019-02-25 12:04:21.412    -94    -75    -95  34.65   9.45    204\n",
              "3204 2019-02-25 12:04:27.002    -95    -71    -95  34.65   9.45    204\n",
              "3205 2019-02-25 12:05:52.866    -95    -78    -98  34.65   9.45    204\n",
              "3206 2019-02-25 12:05:53.976    -95    -73    -93  34.65   9.45    204\n",
              "3207 2019-02-25 12:05:56.215    -94    -70    -96  34.65   9.45    204\n",
              "3208 2019-02-25 12:05:57.344    -93    -82    -96  34.65   9.45    204\n",
              "3209 2019-02-25 12:07:23.416    -95    -67    -92  34.65   9.45    204\n",
              "3210 2019-02-25 12:07:24.544    -93    -66    -93  34.65   9.45    204\n",
              "3211 2019-02-25 12:07:26.784    -94    -67    -92  34.65   9.45    204\n",
              "3212 2019-02-25 12:08:14.836    -95    -66    -95  34.65   9.45    204\n",
              "\n",
              "[3213 rows x 7 columns]"
            ]
          },
          "metadata": {
            "tags": []
          },
          "execution_count": 14
        }
      ]
    },
    {
      "metadata": {
        "id": "TBKtPvl5iOn_",
        "colab_type": "code",
        "colab": {}
      },
      "cell_type": "code",
      "source": [
        "alldata.to_csv('/beacon/data.csv', sep=',')"
      ],
      "execution_count": 0,
      "outputs": []
    },
    {
      "metadata": {
        "id": "FpIVFVrECr0z",
        "colab_type": "text"
      },
      "cell_type": "markdown",
      "source": [
        "# Train Test"
      ]
    },
    {
      "metadata": {
        "id": "wMMPoma_151w",
        "colab_type": "code",
        "outputId": "1d6b2966-17bc-4a90-93a1-7419fc233b45",
        "colab": {
          "base_uri": "https://localhost:8080/",
          "height": 669
        }
      },
      "cell_type": "code",
      "source": [
        "rssi_data = pd.read_csv('/beacon/data.csv',index_col=0)\n",
        "rssi_data.head(20)"
      ],
      "execution_count": 0,
      "outputs": [
        {
          "output_type": "execute_result",
          "data": {
            "text/html": [
              "<div>\n",
              "<style scoped>\n",
              "    .dataframe tbody tr th:only-of-type {\n",
              "        vertical-align: middle;\n",
              "    }\n",
              "\n",
              "    .dataframe tbody tr th {\n",
              "        vertical-align: top;\n",
              "    }\n",
              "\n",
              "    .dataframe thead th {\n",
              "        text-align: right;\n",
              "    }\n",
              "</style>\n",
              "<table border=\"1\" class=\"dataframe\">\n",
              "  <thead>\n",
              "    <tr style=\"text-align: right;\">\n",
              "      <th></th>\n",
              "      <th>timestamp</th>\n",
              "      <th>rssi1</th>\n",
              "      <th>rssi2</th>\n",
              "      <th>rssi3</th>\n",
              "      <th>x</th>\n",
              "      <th>y</th>\n",
              "      <th>block</th>\n",
              "    </tr>\n",
              "  </thead>\n",
              "  <tbody>\n",
              "    <tr>\n",
              "      <th>0</th>\n",
              "      <td>2019-01-28 13:36:01.362</td>\n",
              "      <td>-83</td>\n",
              "      <td>-83</td>\n",
              "      <td>-95</td>\n",
              "      <td>1.05</td>\n",
              "      <td>16.8</td>\n",
              "      <td>1</td>\n",
              "    </tr>\n",
              "    <tr>\n",
              "      <th>1</th>\n",
              "      <td>2019-01-28 13:36:02.479</td>\n",
              "      <td>-83</td>\n",
              "      <td>-81</td>\n",
              "      <td>-93</td>\n",
              "      <td>1.05</td>\n",
              "      <td>16.8</td>\n",
              "      <td>1</td>\n",
              "    </tr>\n",
              "    <tr>\n",
              "      <th>2</th>\n",
              "      <td>2019-01-28 13:36:05.848</td>\n",
              "      <td>-77</td>\n",
              "      <td>-86</td>\n",
              "      <td>-96</td>\n",
              "      <td>1.05</td>\n",
              "      <td>16.8</td>\n",
              "      <td>1</td>\n",
              "    </tr>\n",
              "    <tr>\n",
              "      <th>3</th>\n",
              "      <td>2019-01-28 13:36:06.962</td>\n",
              "      <td>-83</td>\n",
              "      <td>-82</td>\n",
              "      <td>-89</td>\n",
              "      <td>1.05</td>\n",
              "      <td>16.8</td>\n",
              "      <td>1</td>\n",
              "    </tr>\n",
              "    <tr>\n",
              "      <th>4</th>\n",
              "      <td>2019-01-28 13:36:08.092</td>\n",
              "      <td>-80</td>\n",
              "      <td>-89</td>\n",
              "      <td>-90</td>\n",
              "      <td>1.05</td>\n",
              "      <td>16.8</td>\n",
              "      <td>1</td>\n",
              "    </tr>\n",
              "    <tr>\n",
              "      <th>5</th>\n",
              "      <td>2019-01-28 13:36:09.218</td>\n",
              "      <td>-78</td>\n",
              "      <td>-84</td>\n",
              "      <td>-91</td>\n",
              "      <td>1.05</td>\n",
              "      <td>16.8</td>\n",
              "      <td>1</td>\n",
              "    </tr>\n",
              "    <tr>\n",
              "      <th>6</th>\n",
              "      <td>2019-01-28 13:36:10.345</td>\n",
              "      <td>-76</td>\n",
              "      <td>-85</td>\n",
              "      <td>-91</td>\n",
              "      <td>1.05</td>\n",
              "      <td>16.8</td>\n",
              "      <td>1</td>\n",
              "    </tr>\n",
              "    <tr>\n",
              "      <th>7</th>\n",
              "      <td>2019-01-28 13:36:11.459</td>\n",
              "      <td>-79</td>\n",
              "      <td>-85</td>\n",
              "      <td>-91</td>\n",
              "      <td>1.05</td>\n",
              "      <td>16.8</td>\n",
              "      <td>1</td>\n",
              "    </tr>\n",
              "    <tr>\n",
              "      <th>8</th>\n",
              "      <td>2019-01-28 13:36:14.845</td>\n",
              "      <td>-83</td>\n",
              "      <td>-87</td>\n",
              "      <td>-94</td>\n",
              "      <td>1.05</td>\n",
              "      <td>16.8</td>\n",
              "      <td>1</td>\n",
              "    </tr>\n",
              "    <tr>\n",
              "      <th>9</th>\n",
              "      <td>2019-01-28 13:36:24.919</td>\n",
              "      <td>-75</td>\n",
              "      <td>-88</td>\n",
              "      <td>-90</td>\n",
              "      <td>1.05</td>\n",
              "      <td>16.8</td>\n",
              "      <td>1</td>\n",
              "    </tr>\n",
              "    <tr>\n",
              "      <th>10</th>\n",
              "      <td>2019-01-28 13:36:26.030</td>\n",
              "      <td>-74</td>\n",
              "      <td>-89</td>\n",
              "      <td>-88</td>\n",
              "      <td>1.05</td>\n",
              "      <td>16.8</td>\n",
              "      <td>1</td>\n",
              "    </tr>\n",
              "    <tr>\n",
              "      <th>11</th>\n",
              "      <td>2019-01-28 13:36:27.143</td>\n",
              "      <td>-82</td>\n",
              "      <td>-95</td>\n",
              "      <td>-100</td>\n",
              "      <td>1.05</td>\n",
              "      <td>16.8</td>\n",
              "      <td>1</td>\n",
              "    </tr>\n",
              "    <tr>\n",
              "      <th>12</th>\n",
              "      <td>2019-01-28 13:36:29.385</td>\n",
              "      <td>-85</td>\n",
              "      <td>-94</td>\n",
              "      <td>-93</td>\n",
              "      <td>1.05</td>\n",
              "      <td>16.8</td>\n",
              "      <td>1</td>\n",
              "    </tr>\n",
              "    <tr>\n",
              "      <th>13</th>\n",
              "      <td>2019-01-28 13:36:30.515</td>\n",
              "      <td>-84</td>\n",
              "      <td>-94</td>\n",
              "      <td>-94</td>\n",
              "      <td>1.05</td>\n",
              "      <td>16.8</td>\n",
              "      <td>1</td>\n",
              "    </tr>\n",
              "    <tr>\n",
              "      <th>14</th>\n",
              "      <td>2019-01-28 13:36:31.625</td>\n",
              "      <td>-83</td>\n",
              "      <td>-93</td>\n",
              "      <td>-93</td>\n",
              "      <td>1.05</td>\n",
              "      <td>16.8</td>\n",
              "      <td>1</td>\n",
              "    </tr>\n",
              "    <tr>\n",
              "      <th>15</th>\n",
              "      <td>2019-01-28 13:36:39.475</td>\n",
              "      <td>-75</td>\n",
              "      <td>-82</td>\n",
              "      <td>-91</td>\n",
              "      <td>1.05</td>\n",
              "      <td>16.8</td>\n",
              "      <td>1</td>\n",
              "    </tr>\n",
              "    <tr>\n",
              "      <th>16</th>\n",
              "      <td>2019-01-28 13:36:40.588</td>\n",
              "      <td>-76</td>\n",
              "      <td>-87</td>\n",
              "      <td>-91</td>\n",
              "      <td>1.05</td>\n",
              "      <td>16.8</td>\n",
              "      <td>1</td>\n",
              "    </tr>\n",
              "    <tr>\n",
              "      <th>17</th>\n",
              "      <td>2019-01-28 13:37:00.995</td>\n",
              "      <td>-74</td>\n",
              "      <td>-83</td>\n",
              "      <td>-91</td>\n",
              "      <td>2.10</td>\n",
              "      <td>16.8</td>\n",
              "      <td>2</td>\n",
              "    </tr>\n",
              "    <tr>\n",
              "      <th>18</th>\n",
              "      <td>2019-01-28 13:37:02.108</td>\n",
              "      <td>-75</td>\n",
              "      <td>-85</td>\n",
              "      <td>-89</td>\n",
              "      <td>2.10</td>\n",
              "      <td>16.8</td>\n",
              "      <td>2</td>\n",
              "    </tr>\n",
              "    <tr>\n",
              "      <th>19</th>\n",
              "      <td>2019-01-28 13:37:03.219</td>\n",
              "      <td>-75</td>\n",
              "      <td>-91</td>\n",
              "      <td>-92</td>\n",
              "      <td>2.10</td>\n",
              "      <td>16.8</td>\n",
              "      <td>2</td>\n",
              "    </tr>\n",
              "  </tbody>\n",
              "</table>\n",
              "</div>"
            ],
            "text/plain": [
              "                  timestamp  rssi1  rssi2  rssi3     x     y  block\n",
              "0   2019-01-28 13:36:01.362    -83    -83    -95  1.05  16.8      1\n",
              "1   2019-01-28 13:36:02.479    -83    -81    -93  1.05  16.8      1\n",
              "2   2019-01-28 13:36:05.848    -77    -86    -96  1.05  16.8      1\n",
              "3   2019-01-28 13:36:06.962    -83    -82    -89  1.05  16.8      1\n",
              "4   2019-01-28 13:36:08.092    -80    -89    -90  1.05  16.8      1\n",
              "5   2019-01-28 13:36:09.218    -78    -84    -91  1.05  16.8      1\n",
              "6   2019-01-28 13:36:10.345    -76    -85    -91  1.05  16.8      1\n",
              "7   2019-01-28 13:36:11.459    -79    -85    -91  1.05  16.8      1\n",
              "8   2019-01-28 13:36:14.845    -83    -87    -94  1.05  16.8      1\n",
              "9   2019-01-28 13:36:24.919    -75    -88    -90  1.05  16.8      1\n",
              "10  2019-01-28 13:36:26.030    -74    -89    -88  1.05  16.8      1\n",
              "11  2019-01-28 13:36:27.143    -82    -95   -100  1.05  16.8      1\n",
              "12  2019-01-28 13:36:29.385    -85    -94    -93  1.05  16.8      1\n",
              "13  2019-01-28 13:36:30.515    -84    -94    -94  1.05  16.8      1\n",
              "14  2019-01-28 13:36:31.625    -83    -93    -93  1.05  16.8      1\n",
              "15  2019-01-28 13:36:39.475    -75    -82    -91  1.05  16.8      1\n",
              "16  2019-01-28 13:36:40.588    -76    -87    -91  1.05  16.8      1\n",
              "17  2019-01-28 13:37:00.995    -74    -83    -91  2.10  16.8      2\n",
              "18  2019-01-28 13:37:02.108    -75    -85    -89  2.10  16.8      2\n",
              "19  2019-01-28 13:37:03.219    -75    -91    -92  2.10  16.8      2"
            ]
          },
          "metadata": {
            "tags": []
          },
          "execution_count": 3
        }
      ]
    },
    {
      "metadata": {
        "id": "ZZteIawtDPN_",
        "colab_type": "code",
        "outputId": "dfb8ed14-0867-4837-b5a3-91445d05f1ff",
        "colab": {
          "base_uri": "https://localhost:8080/",
          "height": 221
        }
      },
      "cell_type": "code",
      "source": [
        "#Information about the data variables in dataset\n",
        "rssi_data.info()"
      ],
      "execution_count": 0,
      "outputs": [
        {
          "output_type": "stream",
          "text": [
            "<class 'pandas.core.frame.DataFrame'>\n",
            "Int64Index: 3213 entries, 0 to 3212\n",
            "Data columns (total 7 columns):\n",
            "timestamp    3213 non-null object\n",
            "rssi1        3213 non-null int64\n",
            "rssi2        3213 non-null int64\n",
            "rssi3        3213 non-null int64\n",
            "x            3213 non-null float64\n",
            "y            3213 non-null float64\n",
            "block        3213 non-null int64\n",
            "dtypes: float64(2), int64(4), object(1)\n",
            "memory usage: 200.8+ KB\n"
          ],
          "name": "stdout"
        }
      ]
    },
    {
      "metadata": {
        "id": "L11FX0y5DVYP",
        "colab_type": "code",
        "outputId": "b9de0a1d-683e-4888-9ecf-3f2faa3da34c",
        "colab": {
          "base_uri": "https://localhost:8080/",
          "height": 297
        }
      },
      "cell_type": "code",
      "source": [
        "#description of labled data including count, mean, std,min,max,median, 1st and 2nd quartiles.\n",
        "rssi_data[['rssi1','rssi2','rssi3']].describe()"
      ],
      "execution_count": 0,
      "outputs": [
        {
          "output_type": "execute_result",
          "data": {
            "text/html": [
              "<div>\n",
              "<style scoped>\n",
              "    .dataframe tbody tr th:only-of-type {\n",
              "        vertical-align: middle;\n",
              "    }\n",
              "\n",
              "    .dataframe tbody tr th {\n",
              "        vertical-align: top;\n",
              "    }\n",
              "\n",
              "    .dataframe thead th {\n",
              "        text-align: right;\n",
              "    }\n",
              "</style>\n",
              "<table border=\"1\" class=\"dataframe\">\n",
              "  <thead>\n",
              "    <tr style=\"text-align: right;\">\n",
              "      <th></th>\n",
              "      <th>rssi1</th>\n",
              "      <th>rssi2</th>\n",
              "      <th>rssi3</th>\n",
              "    </tr>\n",
              "  </thead>\n",
              "  <tbody>\n",
              "    <tr>\n",
              "      <th>count</th>\n",
              "      <td>3213.000000</td>\n",
              "      <td>3213.000000</td>\n",
              "      <td>3213.000000</td>\n",
              "    </tr>\n",
              "    <tr>\n",
              "      <th>mean</th>\n",
              "      <td>-86.993464</td>\n",
              "      <td>-79.688453</td>\n",
              "      <td>-86.333333</td>\n",
              "    </tr>\n",
              "    <tr>\n",
              "      <th>std</th>\n",
              "      <td>9.149391</td>\n",
              "      <td>9.004343</td>\n",
              "      <td>8.411098</td>\n",
              "    </tr>\n",
              "    <tr>\n",
              "      <th>min</th>\n",
              "      <td>-102.000000</td>\n",
              "      <td>-100.000000</td>\n",
              "      <td>-101.000000</td>\n",
              "    </tr>\n",
              "    <tr>\n",
              "      <th>25%</th>\n",
              "      <td>-94.000000</td>\n",
              "      <td>-86.000000</td>\n",
              "      <td>-93.000000</td>\n",
              "    </tr>\n",
              "    <tr>\n",
              "      <th>50%</th>\n",
              "      <td>-89.000000</td>\n",
              "      <td>-81.000000</td>\n",
              "      <td>-88.000000</td>\n",
              "    </tr>\n",
              "    <tr>\n",
              "      <th>75%</th>\n",
              "      <td>-83.000000</td>\n",
              "      <td>-74.000000</td>\n",
              "      <td>-82.000000</td>\n",
              "    </tr>\n",
              "    <tr>\n",
              "      <th>max</th>\n",
              "      <td>-52.000000</td>\n",
              "      <td>-49.000000</td>\n",
              "      <td>-52.000000</td>\n",
              "    </tr>\n",
              "  </tbody>\n",
              "</table>\n",
              "</div>"
            ],
            "text/plain": [
              "             rssi1        rssi2        rssi3\n",
              "count  3213.000000  3213.000000  3213.000000\n",
              "mean    -86.993464   -79.688453   -86.333333\n",
              "std       9.149391     9.004343     8.411098\n",
              "min    -102.000000  -100.000000  -101.000000\n",
              "25%     -94.000000   -86.000000   -93.000000\n",
              "50%     -89.000000   -81.000000   -88.000000\n",
              "75%     -83.000000   -74.000000   -82.000000\n",
              "max     -52.000000   -49.000000   -52.000000"
            ]
          },
          "metadata": {
            "tags": []
          },
          "execution_count": 5
        }
      ]
    },
    {
      "metadata": {
        "id": "aeilbTa_Lw6y",
        "colab_type": "code",
        "colab": {}
      },
      "cell_type": "code",
      "source": [
        "locations = rssi_data['block'][:] #The output variable, location, isolated from labled dataframe\n",
        "dates = rssi_data['timestamp'][:]##The object type input variable, date, isolated from labled dataframe\n",
        "features = rssi_data.drop(['timestamp','block','x','y'], axis = 1)#64int iBeacon RSSI valued variables for data processing"
      ],
      "execution_count": 0,
      "outputs": []
    },
    {
      "metadata": {
        "id": "5OcfUAoswMAa",
        "colab_type": "code",
        "outputId": "685273e0-a39f-4761-eb92-7c54a90eb4e7",
        "colab": {
          "base_uri": "https://localhost:8080/",
          "height": 899
        }
      },
      "cell_type": "code",
      "source": [
        "%matplotlib inline\n",
        "import matplotlib.pyplot as plt \n",
        "features.hist(figsize=(20,15))# Plotting all the beacons values \n",
        "#x axis = RSSI value\n",
        "#y axis = number of data points at a perticular RSSI value\n",
        "plt.savefig('Leabeled_beacons_HIstograms.png')\n",
        "plt.show()"
      ],
      "execution_count": 0,
      "outputs": [
        {
          "output_type": "display_data",
          "data": {
            "image/png": "[encoded data removed]",
            "text/plain": [
              "<Figure size 1440x1080 with 4 Axes>"
            ]
          },
          "metadata": {
            "tags": []
          }
        }
      ]
    },
    {
      "metadata": {
        "id": "Lh2Qs-H7wQB5",
        "colab_type": "code",
        "outputId": "3937f94b-0fee-4c00-b953-14f68c8e276b",
        "colab": {
          "base_uri": "https://localhost:8080/",
          "height": 142
        }
      },
      "cell_type": "code",
      "source": [
        "features.corr()"
      ],
      "execution_count": 0,
      "outputs": [
        {
          "output_type": "execute_result",
          "data": {
            "text/html": [
              "<div>\n",
              "<style scoped>\n",
              "    .dataframe tbody tr th:only-of-type {\n",
              "        vertical-align: middle;\n",
              "    }\n",
              "\n",
              "    .dataframe tbody tr th {\n",
              "        vertical-align: top;\n",
              "    }\n",
              "\n",
              "    .dataframe thead th {\n",
              "        text-align: right;\n",
              "    }\n",
              "</style>\n",
              "<table border=\"1\" class=\"dataframe\">\n",
              "  <thead>\n",
              "    <tr style=\"text-align: right;\">\n",
              "      <th></th>\n",
              "      <th>rssi1</th>\n",
              "      <th>rssi2</th>\n",
              "      <th>rssi3</th>\n",
              "    </tr>\n",
              "  </thead>\n",
              "  <tbody>\n",
              "    <tr>\n",
              "      <th>rssi1</th>\n",
              "      <td>1.000000</td>\n",
              "      <td>-0.238992</td>\n",
              "      <td>-0.213926</td>\n",
              "    </tr>\n",
              "    <tr>\n",
              "      <th>rssi2</th>\n",
              "      <td>-0.238992</td>\n",
              "      <td>1.000000</td>\n",
              "      <td>-0.252627</td>\n",
              "    </tr>\n",
              "    <tr>\n",
              "      <th>rssi3</th>\n",
              "      <td>-0.213926</td>\n",
              "      <td>-0.252627</td>\n",
              "      <td>1.000000</td>\n",
              "    </tr>\n",
              "  </tbody>\n",
              "</table>\n",
              "</div>"
            ],
            "text/plain": [
              "          rssi1     rssi2     rssi3\n",
              "rssi1  1.000000 -0.238992 -0.213926\n",
              "rssi2 -0.238992  1.000000 -0.252627\n",
              "rssi3 -0.213926 -0.252627  1.000000"
            ]
          },
          "metadata": {
            "tags": []
          },
          "execution_count": 8
        }
      ]
    },
    {
      "metadata": {
        "id": "lvx_OBhDwWR1",
        "colab_type": "code",
        "colab": {}
      },
      "cell_type": "code",
      "source": [
        "from sklearn.model_selection import train_test_split\n",
        "X = features\n",
        "y = locations\n",
        "#Deviding data into train, and test\n",
        "#X_train1, X_test, y_train1, y_test indicates only train and test data groups\n",
        "X_train, X_test, y_train, y_test =  train_test_split(X, y, test_size = 0.2, random_state =1, stratify=y)"
      ],
      "execution_count": 0,
      "outputs": []
    },
    {
      "metadata": {
        "id": "cfORTPLLytee",
        "colab_type": "code",
        "outputId": "440cf8bd-dc4b-4572-bae0-ec1dd6ddc937",
        "colab": {
          "base_uri": "https://localhost:8080/",
          "height": 85
        }
      },
      "cell_type": "code",
      "source": [
        "#The lengths of test, validation and test datasets\n",
        "print('Length of X_train, y_train:',len(X_train))\n",
        "print('Length of X_test,y_test     :',len(X_test))\n"
      ],
      "execution_count": 0,
      "outputs": [
        {
          "output_type": "stream",
          "text": [
            "Length of X_train, y_train: 2570\n",
            "Length of X_test,y_test     : 643\n",
            "Length of X_train1, y_train1  : 2056\n",
            "Length of X_val, y_val      : 514\n"
          ],
          "name": "stdout"
        }
      ]
    },
    {
      "metadata": {
        "id": "NWnajdlN0gGK",
        "colab_type": "text"
      },
      "cell_type": "markdown",
      "source": [
        "# Random forest"
      ]
    },
    {
      "metadata": {
        "id": "vXuVu-P60iUw",
        "colab_type": "code",
        "outputId": "d7914cf6-3409-4cbb-f498-370f3eacf057",
        "colab": {
          "base_uri": "https://localhost:8080/",
          "height": 51
        }
      },
      "cell_type": "code",
      "source": [
        "rf = RandomForestClassifier(bootstrap=True, class_weight=None, criterion='gini',max_depth=None, max_features='auto', \n",
        "                            max_leaf_nodes=None,min_impurity_split=1e-07, min_samples_leaf=1,min_samples_split=2, min_weight_fraction_leaf=0.0, \n",
        "                            n_estimators=700, n_jobs=1, oob_score=False, random_state=1,verbose=0, warm_start=False)\n",
        "rf.fit(X_train,y_train)\n",
        "pred_test = rf.predict(X_test)\n",
        "\n",
        "\n",
        "print('Prediction accuracy for the test dataset')\n",
        "print('{:.2%}'.format(metrics.accuracy_score(y_test, pred_test)))"
      ],
      "execution_count": 0,
      "outputs": [
        {
          "output_type": "stream",
          "text": [
            "Prediction accuracy for the test dataset\n",
            "19.28%\n"
          ],
          "name": "stdout"
        }
      ]
    },
    {
      "metadata": {
        "id": "4fmHCpoXI1kR",
        "colab_type": "code",
        "outputId": "4483b25c-17f5-4396-c9e5-0509bb6ee365",
        "colab": {
          "base_uri": "https://localhost:8080/",
          "height": 68
        }
      },
      "cell_type": "code",
      "source": [
        "for i in range(0,len(y_test)):\n",
        "  if list(y_test)[i] == 1:\n",
        "    print('Random forest - Actual outcome :: {0} and Predicted outcome :: {1}'.format(list(y_test)[i],pred_test[i]))"
      ],
      "execution_count": 0,
      "outputs": [
        {
          "output_type": "stream",
          "text": [
            "Random forest - Actual outcome :: 1 and Predicted outcome :: 4\n",
            "Random forest - Actual outcome :: 1 and Predicted outcome :: 10\n",
            "Random forest - Actual outcome :: 1 and Predicted outcome :: 28\n"
          ],
          "name": "stdout"
        }
      ]
    },
    {
      "metadata": {
        "id": "WpwHeoKc0khu",
        "colab_type": "code",
        "outputId": "55e7c7ce-cfc1-4241-b5ef-e7cafd65f14d",
        "colab": {
          "base_uri": "https://localhost:8080/",
          "height": 187
        }
      },
      "cell_type": "code",
      "source": [
        "for i in range(0, 10):\n",
        "  print('Actual outcome :: {0} and Predicted outcome :: {1}'.format(list(y_test)[i],pred_test[i]))"
      ],
      "execution_count": 0,
      "outputs": [
        {
          "output_type": "stream",
          "text": [
            "Actual outcome :: 31 and Predicted outcome :: 47\n",
            "Actual outcome :: 87 and Predicted outcome :: 81\n",
            "Actual outcome :: 13 and Predicted outcome :: 13\n",
            "Actual outcome :: 126 and Predicted outcome :: 125\n",
            "Actual outcome :: 178 and Predicted outcome :: 166\n",
            "Actual outcome :: 132 and Predicted outcome :: 66\n",
            "Actual outcome :: 72 and Predicted outcome :: 137\n",
            "Actual outcome :: 70 and Predicted outcome :: 64\n",
            "Actual outcome :: 112 and Predicted outcome :: 107\n",
            "Actual outcome :: 39 and Predicted outcome :: 49\n"
          ],
          "name": "stdout"
        }
      ]
    },
    {
      "metadata": {
        "id": "DPy8YhK-0m_r",
        "colab_type": "code",
        "outputId": "2463cf7a-11e1-4cf9-ffd9-ac87a8cebca5",
        "colab": {
          "base_uri": "https://localhost:8080/",
          "height": 51
        }
      },
      "cell_type": "code",
      "source": [
        "print ('Train Accuracy :: ', accuracy_score(y_train, rf.predict(X_train)))\n",
        "print ('Test Accuracy  :: ', accuracy_score(y_test, pred_test))"
      ],
      "execution_count": 0,
      "outputs": [
        {
          "output_type": "stream",
          "text": [
            "Train Accuracy ::  0.9303501945525292\n",
            "Test Accuracy  ::  0.19284603421461896\n"
          ],
          "name": "stdout"
        }
      ]
    },
    {
      "metadata": {
        "id": "IAtApP7h0qB8",
        "colab_type": "code",
        "outputId": "45dda883-4b3f-4ed6-beec-6e0704e2b2b9",
        "colab": {
          "base_uri": "https://localhost:8080/",
          "height": 320
        }
      },
      "cell_type": "code",
      "source": [
        "plot_learning_curves(X_train, y_train,\n",
        "                     X_test, y_test,\n",
        "                     rf, scoring = 'accuracy',\n",
        "                     print_model = False)\n",
        "plt.title('Random forest')\n",
        "plt.show()"
      ],
      "execution_count": 0,
      "outputs": [
        {
          "output_type": "display_data",
          "data": {
            "image/png": "[encoded data removed]",
            "text/plain": [
              "<Figure size 432x288 with 1 Axes>"
            ]
          },
          "metadata": {
            "tags": []
          }
        }
      ]
    },
    {
      "metadata": {
        "id": "2k7eQI1tGTWn",
        "colab_type": "code",
        "outputId": "136e8f37-3c18-499d-c459-dc82dcc58ef2",
        "colab": {
          "base_uri": "https://localhost:8080/",
          "height": 34
        }
      },
      "cell_type": "code",
      "source": [
        "#average error\n",
        "y = list(y_test)\n",
        "alldistance = 0\n",
        "N = len(pred_test)\n",
        "for i in range(0, N):\n",
        "    #print(i)\n",
        "    if (y[i] == pred_test[i]):\n",
        "        alldistance += 0\n",
        "    else:\n",
        "        #print(\"1\")\n",
        "        ydf = rssi_data[rssi_data['block'] == y[i]]\n",
        "        predf = rssi_data[rssi_data['block'] == pred_test[i]]     \n",
        "        lgn = list(ydf['x'])[0]-list(predf['x'])[0]\n",
        "        lt  = list(ydf['y'])[0]-list(predf['y'])[0]\n",
        "        distance = np.sqrt(lgn**2 + lt**2)\n",
        "        alldistance += distance\n",
        "\n",
        "d_avg = alldistance/N\n",
        "print(d_avg)"
      ],
      "execution_count": 0,
      "outputs": [
        {
          "output_type": "stream",
          "text": [
            "4.703371451108898\n"
          ],
          "name": "stdout"
        }
      ]
    },
    {
      "metadata": {
        "id": "G2042aYt1Hor",
        "colab_type": "text"
      },
      "cell_type": "markdown",
      "source": [
        "# KNN"
      ]
    },
    {
      "metadata": {
        "id": "ZLAOl9rm1ENO",
        "colab_type": "code",
        "outputId": "14428619-14cb-4485-b77b-8d04beb1be9d",
        "colab": {
          "base_uri": "https://localhost:8080/",
          "height": 51
        }
      },
      "cell_type": "code",
      "source": [
        "knn = KNeighborsClassifier(n_neighbors=7)\n",
        "knn.fit(X_train, y_train)\n",
        "pred_test_knn = knn.predict(X_test)\n",
        "\n",
        "print('Prediction accuracy for the test dataset')\n",
        "print('{:.2%}'.format(metrics.accuracy_score(y_test, pred_test_knn)))"
      ],
      "execution_count": 0,
      "outputs": [
        {
          "output_type": "stream",
          "text": [
            "Prediction accuracy for the test dataset\n",
            "19.91%\n"
          ],
          "name": "stdout"
        }
      ]
    },
    {
      "metadata": {
        "id": "FF8kVM_uNa0q",
        "colab_type": "code",
        "outputId": "4d9da362-20be-43da-a2d4-a0649d866c7b",
        "colab": {
          "base_uri": "https://localhost:8080/",
          "height": 68
        }
      },
      "cell_type": "code",
      "source": [
        "for i in range(0,len(y_test)):\n",
        "  if list(y_test)[i] == 1:\n",
        "     print('KNN - Actual outcome :: {0} and Predicted outcome :: {1}'.format(list(y_test)[i],pred_test_knn[i]))"
      ],
      "execution_count": 0,
      "outputs": [
        {
          "output_type": "stream",
          "text": [
            "KNN - Actual outcome :: 1 and Predicted outcome :: 9\n",
            "KNN - Actual outcome :: 1 and Predicted outcome :: 9\n",
            "KNN - Actual outcome :: 1 and Predicted outcome :: 28\n"
          ],
          "name": "stdout"
        }
      ]
    },
    {
      "metadata": {
        "id": "Ccf-71Mo1L0H",
        "colab_type": "code",
        "outputId": "f24954a9-4e00-44fe-9b46-c4c4b2c3553d",
        "colab": {
          "base_uri": "https://localhost:8080/",
          "height": 187
        }
      },
      "cell_type": "code",
      "source": [
        "for i in range(0, 10):\n",
        "  print('Actual outcome :: {0} and Predicted outcome :: {1}'.format(list(y_test)[i],pred_test_knn[i]))"
      ],
      "execution_count": 0,
      "outputs": [
        {
          "output_type": "stream",
          "text": [
            "Actual outcome :: 31 and Predicted outcome :: 31\n",
            "Actual outcome :: 87 and Predicted outcome :: 81\n",
            "Actual outcome :: 13 and Predicted outcome :: 13\n",
            "Actual outcome :: 126 and Predicted outcome :: 43\n",
            "Actual outcome :: 178 and Predicted outcome :: 166\n",
            "Actual outcome :: 132 and Predicted outcome :: 66\n",
            "Actual outcome :: 72 and Predicted outcome :: 132\n",
            "Actual outcome :: 70 and Predicted outcome :: 56\n",
            "Actual outcome :: 112 and Predicted outcome :: 111\n",
            "Actual outcome :: 39 and Predicted outcome :: 49\n"
          ],
          "name": "stdout"
        }
      ]
    },
    {
      "metadata": {
        "id": "uYdPu7iQ1Nlm",
        "colab_type": "code",
        "outputId": "143b375e-69c6-4667-caef-e1a4c263cdfa",
        "colab": {
          "base_uri": "https://localhost:8080/",
          "height": 51
        }
      },
      "cell_type": "code",
      "source": [
        "print ('Train Accuracy :: ', accuracy_score(y_train, knn.predict(X_train)))\n",
        "print ('Test Accuracy  :: ', accuracy_score(y_test, pred_test_knn))"
      ],
      "execution_count": 0,
      "outputs": [
        {
          "output_type": "stream",
          "text": [
            "Train Accuracy ::  0.34747081712062255\n",
            "Test Accuracy  ::  0.19906687402799378\n"
          ],
          "name": "stdout"
        }
      ]
    },
    {
      "metadata": {
        "id": "cHx6WBaB1RIg",
        "colab_type": "code",
        "outputId": "ab88a3d9-e8cb-4563-de7f-5f258dcae3fc",
        "colab": {
          "base_uri": "https://localhost:8080/",
          "height": 320
        }
      },
      "cell_type": "code",
      "source": [
        "plot_learning_curves(X_train, y_train,\n",
        "                     X_test, y_test,\n",
        "                     knn, scoring = 'accuracy',\n",
        "                     print_model = False)\n",
        "plt.title('KNN')\n",
        "plt.show()"
      ],
      "execution_count": 0,
      "outputs": [
        {
          "output_type": "display_data",
          "data": {
            "image/png": "[encoded data removed]",
            "text/plain": [
              "<Figure size 432x288 with 1 Axes>"
            ]
          },
          "metadata": {
            "tags": []
          }
        }
      ]
    },
    {
      "metadata": {
        "id": "RA3Hw9LYvW2l",
        "colab_type": "code",
        "outputId": "62082fcc-3a91-41eb-f62d-d033030ee320",
        "colab": {
          "base_uri": "https://localhost:8080/",
          "height": 34
        }
      },
      "cell_type": "code",
      "source": [
        "y = list(y_test)\n",
        "alldistance = 0\n",
        "N = len(pred_test_knn)\n",
        "for i in range(0, N):\n",
        "    #print(i)\n",
        "    if (y[i] == pred_test_knn[i]):\n",
        "        alldistance += 0\n",
        "    else:\n",
        "        #print(\"1\")\n",
        "        ydf = rssi_data[rssi_data['block'] == y[i]]\n",
        "        predf = rssi_data[rssi_data['block'] == pred_test_knn[i]]\n",
        "        lgn = list(ydf['x'])[0]-list(predf['x'])[0]\n",
        "        lt  = list(ydf['y'])[0]-list(predf['y'])[0]\n",
        "        distance = np.sqrt(lgn**2 + lt**2)\n",
        "        alldistance += distance\n",
        "\n",
        "d_avg = alldistance/N\n",
        "print(d_avg)"
      ],
      "execution_count": 0,
      "outputs": [
        {
          "output_type": "stream",
          "text": [
            "5.043465698958329\n"
          ],
          "name": "stdout"
        }
      ]
    },
    {
      "metadata": {
        "id": "MHvu3iFF1Zva",
        "colab_type": "text"
      },
      "cell_type": "markdown",
      "source": [
        "# Support Vector Classification"
      ]
    },
    {
      "metadata": {
        "id": "RsEgZYUl1S18",
        "colab_type": "code",
        "outputId": "6ceab0e3-c934-4067-ced0-3f1decdc0cb8",
        "colab": {
          "base_uri": "https://localhost:8080/",
          "height": 51
        }
      },
      "cell_type": "code",
      "source": [
        "svc = SVC(C=1.0, cache_size=200, class_weight=None, coef0=0.0,decision_function_shape='ovo', degree=3,\n",
        "          gamma=0.1, kernel='rbf',max_iter=-1, probability=False, random_state=None, shrinking=True,tol=0.001, verbose=False)\n",
        "svc.fit(X_train, y_train)\n",
        "pred_test_svc = svc.predict(X_test)\n",
        "\n",
        "print('Prediction accuracy for the test dataset')\n",
        "print('{:.2%}'.format(metrics.accuracy_score(y_test, pred_test_svc)))\n"
      ],
      "execution_count": 0,
      "outputs": [
        {
          "output_type": "stream",
          "text": [
            "Prediction accuracy for the test dataset\n",
            "21.62%\n"
          ],
          "name": "stdout"
        }
      ]
    },
    {
      "metadata": {
        "id": "bvGT1DWYNlYS",
        "colab_type": "code",
        "outputId": "3954ff49-c2c2-47ba-e8eb-61b631a1b4bd",
        "colab": {
          "base_uri": "https://localhost:8080/",
          "height": 68
        }
      },
      "cell_type": "code",
      "source": [
        "for i in range(0,len(y_test)):\n",
        "  if list(y_test)[i] == 1:\n",
        "     print('SVC - Actual outcome :: {0} and Predicted outcome :: {1}'.format(list(y_test)[i],pred_test_svc[i]))"
      ],
      "execution_count": 0,
      "outputs": [
        {
          "output_type": "stream",
          "text": [
            "SVC - Actual outcome :: 1 and Predicted outcome :: 9\n",
            "SVC - Actual outcome :: 1 and Predicted outcome :: 9\n",
            "SVC - Actual outcome :: 1 and Predicted outcome :: 28\n"
          ],
          "name": "stdout"
        }
      ]
    },
    {
      "metadata": {
        "id": "MBw4Hy__1ikA",
        "colab_type": "code",
        "outputId": "500c0c1c-fc09-4893-c7e0-6ea0d53d1d1f",
        "colab": {
          "base_uri": "https://localhost:8080/",
          "height": 187
        }
      },
      "cell_type": "code",
      "source": [
        "rows_list = []\n",
        "for i in range(0, 10):\n",
        "  print('Actual outcome :: {0} and Predicted outcome :: {1}'.format(list(y_test)[i],pred_test_svc[i]))"
      ],
      "execution_count": 0,
      "outputs": [
        {
          "output_type": "stream",
          "text": [
            "Actual outcome :: 31 and Predicted outcome :: 49\n",
            "Actual outcome :: 87 and Predicted outcome :: 87\n",
            "Actual outcome :: 13 and Predicted outcome :: 13\n",
            "Actual outcome :: 126 and Predicted outcome :: 125\n",
            "Actual outcome :: 178 and Predicted outcome :: 166\n",
            "Actual outcome :: 132 and Predicted outcome :: 53\n",
            "Actual outcome :: 72 and Predicted outcome :: 72\n",
            "Actual outcome :: 70 and Predicted outcome :: 56\n",
            "Actual outcome :: 112 and Predicted outcome :: 111\n",
            "Actual outcome :: 39 and Predicted outcome :: 49\n"
          ],
          "name": "stdout"
        }
      ]
    },
    {
      "metadata": {
        "id": "dCtyJLzi1koO",
        "colab_type": "code",
        "outputId": "c7b84661-929b-4e66-9c1b-0b2625d2e5c8",
        "colab": {
          "base_uri": "https://localhost:8080/",
          "height": 51
        }
      },
      "cell_type": "code",
      "source": [
        "print ('Train Accuracy :: ', accuracy_score(y_train, svc.predict(X_train)))\n",
        "print ('Test Accuracy  :: ', accuracy_score(y_test, pred_test_svc))"
      ],
      "execution_count": 0,
      "outputs": [
        {
          "output_type": "stream",
          "text": [
            "Train Accuracy ::  0.47821011673151753\n",
            "Test Accuracy  ::  0.2161741835147745\n"
          ],
          "name": "stdout"
        }
      ]
    },
    {
      "metadata": {
        "id": "C_jVn3il1l40",
        "colab_type": "code",
        "outputId": "01080f75-fa20-4597-900e-cf88cbd0b70d",
        "colab": {
          "base_uri": "https://localhost:8080/",
          "height": 320
        }
      },
      "cell_type": "code",
      "source": [
        "plot_learning_curves(X_train, y_train,\n",
        "                     X_test, y_test,\n",
        "                     svc, scoring = 'accuracy',\n",
        "                     print_model = False)\n",
        "plt.title('SVC')\n",
        "plt.show()"
      ],
      "execution_count": 0,
      "outputs": [
        {
          "output_type": "display_data",
          "data": {
            "image/png": "[encoded data removed]",
            "text/plain": [
              "<Figure size 432x288 with 1 Axes>"
            ]
          },
          "metadata": {
            "tags": []
          }
        }
      ]
    },
    {
      "metadata": {
        "id": "6hAKzrmx1nbT",
        "colab_type": "code",
        "outputId": "1ca25e82-6bdb-40f3-e13e-6f4b4bc6c5fa",
        "colab": {
          "base_uri": "https://localhost:8080/",
          "height": 34
        }
      },
      "cell_type": "code",
      "source": [
        "y = list(y_test)\n",
        "alldistance = 0\n",
        "N = len(pred_test_svc)\n",
        "for i in range(0, N):\n",
        "    #print(i)\n",
        "    if (y[i] == pred_test_svc[i]):\n",
        "        alldistance += 0\n",
        "    else:\n",
        "        #print(\"1\")\n",
        "        ydf = rssi_data[rssi_data['block'] == y[i]]\n",
        "        predf = rssi_data[rssi_data['block'] == pred_test_svc[i]]\n",
        "        lgn = list(ydf['x'])[0]-list(predf['x'])[0]\n",
        "        lt  = list(ydf['y'])[0]-list(predf['y'])[0]\n",
        "        distance = np.sqrt(lgn**2 + lt**2)\n",
        "        alldistance += distance\n",
        "\n",
        "d_avg = alldistance/N\n",
        "print(d_avg)"
      ],
      "execution_count": 0,
      "outputs": [
        {
          "output_type": "stream",
          "text": [
            "4.451861640401095\n"
          ],
          "name": "stdout"
        }
      ]
    },
    {
      "metadata": {
        "id": "iKgnDM_3dfWa",
        "colab_type": "code",
        "outputId": "ac66de82-d96c-419d-da48-903649ce4b14",
        "colab": {
          "base_uri": "https://localhost:8080/",
          "height": 359
        }
      },
      "cell_type": "code",
      "source": [
        "rows_list = []\n",
        "for i in range(0, 10):\n",
        "  dd = \"dict\"+ str(i)\n",
        "  dd ={}\n",
        "  dd.update({'Actual' : list(y_test)[i],'RF' :pred_test[i] , 'KNN':pred_test_knn[i] ,'SVC':pred_test_svc[i] })\n",
        "  rows_list.append(dd)\n",
        "\n",
        "df = pd.DataFrame(rows_list)\n",
        "df"
      ],
      "execution_count": 0,
      "outputs": [
        {
          "output_type": "execute_result",
          "data": {
            "text/html": [
              "<div>\n",
              "<style scoped>\n",
              "    .dataframe tbody tr th:only-of-type {\n",
              "        vertical-align: middle;\n",
              "    }\n",
              "\n",
              "    .dataframe tbody tr th {\n",
              "        vertical-align: top;\n",
              "    }\n",
              "\n",
              "    .dataframe thead th {\n",
              "        text-align: right;\n",
              "    }\n",
              "</style>\n",
              "<table border=\"1\" class=\"dataframe\">\n",
              "  <thead>\n",
              "    <tr style=\"text-align: right;\">\n",
              "      <th></th>\n",
              "      <th>Actual</th>\n",
              "      <th>KNN</th>\n",
              "      <th>RF</th>\n",
              "      <th>SVC</th>\n",
              "    </tr>\n",
              "  </thead>\n",
              "  <tbody>\n",
              "    <tr>\n",
              "      <th>0</th>\n",
              "      <td>31</td>\n",
              "      <td>31</td>\n",
              "      <td>47</td>\n",
              "      <td>49</td>\n",
              "    </tr>\n",
              "    <tr>\n",
              "      <th>1</th>\n",
              "      <td>87</td>\n",
              "      <td>81</td>\n",
              "      <td>81</td>\n",
              "      <td>87</td>\n",
              "    </tr>\n",
              "    <tr>\n",
              "      <th>2</th>\n",
              "      <td>13</td>\n",
              "      <td>13</td>\n",
              "      <td>13</td>\n",
              "      <td>13</td>\n",
              "    </tr>\n",
              "    <tr>\n",
              "      <th>3</th>\n",
              "      <td>126</td>\n",
              "      <td>43</td>\n",
              "      <td>125</td>\n",
              "      <td>125</td>\n",
              "    </tr>\n",
              "    <tr>\n",
              "      <th>4</th>\n",
              "      <td>178</td>\n",
              "      <td>166</td>\n",
              "      <td>166</td>\n",
              "      <td>166</td>\n",
              "    </tr>\n",
              "    <tr>\n",
              "      <th>5</th>\n",
              "      <td>132</td>\n",
              "      <td>66</td>\n",
              "      <td>66</td>\n",
              "      <td>53</td>\n",
              "    </tr>\n",
              "    <tr>\n",
              "      <th>6</th>\n",
              "      <td>72</td>\n",
              "      <td>132</td>\n",
              "      <td>137</td>\n",
              "      <td>72</td>\n",
              "    </tr>\n",
              "    <tr>\n",
              "      <th>7</th>\n",
              "      <td>70</td>\n",
              "      <td>56</td>\n",
              "      <td>64</td>\n",
              "      <td>56</td>\n",
              "    </tr>\n",
              "    <tr>\n",
              "      <th>8</th>\n",
              "      <td>112</td>\n",
              "      <td>111</td>\n",
              "      <td>107</td>\n",
              "      <td>111</td>\n",
              "    </tr>\n",
              "    <tr>\n",
              "      <th>9</th>\n",
              "      <td>39</td>\n",
              "      <td>49</td>\n",
              "      <td>49</td>\n",
              "      <td>49</td>\n",
              "    </tr>\n",
              "  </tbody>\n",
              "</table>\n",
              "</div>"
            ],
            "text/plain": [
              "   Actual  KNN   RF  SVC\n",
              "0      31   31   47   49\n",
              "1      87   81   81   87\n",
              "2      13   13   13   13\n",
              "3     126   43  125  125\n",
              "4     178  166  166  166\n",
              "5     132   66   66   53\n",
              "6      72  132  137   72\n",
              "7      70   56   64   56\n",
              "8     112  111  107  111\n",
              "9      39   49   49   49"
            ]
          },
          "metadata": {
            "tags": []
          },
          "execution_count": 42
        }
      ]
    },
    {
      "metadata": {
        "id": "gipeH8B4DgOd",
        "colab_type": "text"
      },
      "cell_type": "markdown",
      "source": [
        "# Trajectory"
      ]
    },
    {
      "metadata": {
        "id": "XlbsVskIDjwO",
        "colab_type": "code",
        "outputId": "16522360-2a0c-4fe4-f468-78e1da258741",
        "colab": {
          "base_uri": "https://localhost:8080/",
          "height": 204
        }
      },
      "cell_type": "code",
      "source": [
        "header=['timestamp','rssi1','rssi2','rssi3']\n",
        "trajectory = pd.read_csv('/beacon/beacon_trajectory.csv',names=header,skiprows=1,usecols=[0,1,2,3])\n",
        "trajectory.head()"
      ],
      "execution_count": 0,
      "outputs": [
        {
          "output_type": "execute_result",
          "data": {
            "text/html": [
              "<div>\n",
              "<style scoped>\n",
              "    .dataframe tbody tr th:only-of-type {\n",
              "        vertical-align: middle;\n",
              "    }\n",
              "\n",
              "    .dataframe tbody tr th {\n",
              "        vertical-align: top;\n",
              "    }\n",
              "\n",
              "    .dataframe thead th {\n",
              "        text-align: right;\n",
              "    }\n",
              "</style>\n",
              "<table border=\"1\" class=\"dataframe\">\n",
              "  <thead>\n",
              "    <tr style=\"text-align: right;\">\n",
              "      <th></th>\n",
              "      <th>timestamp</th>\n",
              "      <th>rssi1</th>\n",
              "      <th>rssi2</th>\n",
              "      <th>rssi3</th>\n",
              "    </tr>\n",
              "  </thead>\n",
              "  <tbody>\n",
              "    <tr>\n",
              "      <th>0</th>\n",
              "      <td>1552358042929</td>\n",
              "      <td>-58</td>\n",
              "      <td>-87</td>\n",
              "      <td>-94</td>\n",
              "    </tr>\n",
              "    <tr>\n",
              "      <th>1</th>\n",
              "      <td>1552358044042</td>\n",
              "      <td>-58</td>\n",
              "      <td>-85</td>\n",
              "      <td>-92</td>\n",
              "    </tr>\n",
              "    <tr>\n",
              "      <th>2</th>\n",
              "      <td>1552358046296</td>\n",
              "      <td>-55</td>\n",
              "      <td>-94</td>\n",
              "      <td>-87</td>\n",
              "    </tr>\n",
              "    <tr>\n",
              "      <th>3</th>\n",
              "      <td>1552358048556</td>\n",
              "      <td>-64</td>\n",
              "      <td>-84</td>\n",
              "      <td>-89</td>\n",
              "    </tr>\n",
              "    <tr>\n",
              "      <th>4</th>\n",
              "      <td>1552358055238</td>\n",
              "      <td>-82</td>\n",
              "      <td>-82</td>\n",
              "      <td>-89</td>\n",
              "    </tr>\n",
              "  </tbody>\n",
              "</table>\n",
              "</div>"
            ],
            "text/plain": [
              "       timestamp  rssi1  rssi2  rssi3\n",
              "0  1552358042929    -58    -87    -94\n",
              "1  1552358044042    -58    -85    -92\n",
              "2  1552358046296    -55    -94    -87\n",
              "3  1552358048556    -64    -84    -89\n",
              "4  1552358055238    -82    -82    -89"
            ]
          },
          "metadata": {
            "tags": []
          },
          "execution_count": 43
        }
      ]
    },
    {
      "metadata": {
        "id": "mSUh6x6nFC5b",
        "colab_type": "code",
        "outputId": "af856efd-4458-4edb-a905-84bfad9ac423",
        "colab": {
          "base_uri": "https://localhost:8080/",
          "height": 197
        }
      },
      "cell_type": "code",
      "source": [
        "header=['path','lastid']\n",
        "path = pd.read_csv('/beacon/trajectory_path.csv',names=header,skiprows=1,usecols=[0,1])\n",
        "path['lastid'] = path.lastid.astype(int)\n",
        "path.head()"
      ],
      "execution_count": 0,
      "outputs": [
        {
          "output_type": "execute_result",
          "data": {
            "text/html": [
              "<div>\n",
              "<style scoped>\n",
              "    .dataframe tbody tr th:only-of-type {\n",
              "        vertical-align: middle;\n",
              "    }\n",
              "\n",
              "    .dataframe tbody tr th {\n",
              "        vertical-align: top;\n",
              "    }\n",
              "\n",
              "    .dataframe thead th {\n",
              "        text-align: right;\n",
              "    }\n",
              "</style>\n",
              "<table border=\"1\" class=\"dataframe\">\n",
              "  <thead>\n",
              "    <tr style=\"text-align: right;\">\n",
              "      <th></th>\n",
              "      <th>path</th>\n",
              "      <th>lastid</th>\n",
              "    </tr>\n",
              "  </thead>\n",
              "  <tbody>\n",
              "    <tr>\n",
              "      <th>0</th>\n",
              "      <td>1</td>\n",
              "      <td>1552358073104</td>\n",
              "    </tr>\n",
              "    <tr>\n",
              "      <th>1</th>\n",
              "      <td>2</td>\n",
              "      <td>1552358260188</td>\n",
              "    </tr>\n",
              "    <tr>\n",
              "      <th>2</th>\n",
              "      <td>3</td>\n",
              "      <td>1552358458320</td>\n",
              "    </tr>\n",
              "    <tr>\n",
              "      <th>3</th>\n",
              "      <td>4</td>\n",
              "      <td>1552359222508</td>\n",
              "    </tr>\n",
              "    <tr>\n",
              "      <th>4</th>\n",
              "      <td>5</td>\n",
              "      <td>1552359298452</td>\n",
              "    </tr>\n",
              "  </tbody>\n",
              "</table>\n",
              "</div>"
            ],
            "text/plain": [
              "   path         lastid\n",
              "0     1  1552358073104\n",
              "1     2  1552358260188\n",
              "2     3  1552358458320\n",
              "3     4  1552359222508\n",
              "4     5  1552359298452"
            ]
          },
          "metadata": {
            "tags": []
          },
          "execution_count": 44
        }
      ]
    },
    {
      "metadata": {
        "id": "N1i5AQ6eGBVn",
        "colab_type": "code",
        "colab": {}
      },
      "cell_type": "code",
      "source": [
        "data = []\n",
        "data_block = []\n",
        "timestamp = 0\n",
        "for index,row in path.iterrows():\n",
        "  time = row['lastid']\n",
        "  path = row['path']\n",
        "  for index2,row2 in trajectory.iterrows():\n",
        "    if timestamp < row2['timestamp'] <= time:\n",
        "      row2['path'] = path\n",
        "      data_block.append(row2)\n",
        "      data.append(row2)\n",
        "  data_block = []\n",
        "  timestamp = time\n",
        "alldata = pd.DataFrame(data)\n"
      ],
      "execution_count": 0,
      "outputs": []
    },
    {
      "metadata": {
        "id": "oijj-9JiGZlv",
        "colab_type": "code",
        "colab": {}
      },
      "cell_type": "code",
      "source": [
        "alldata.to_csv('/beacon/traj_path.csv', sep=',')"
      ],
      "execution_count": 0,
      "outputs": []
    },
    {
      "metadata": {
        "id": "UildZn0dTdng",
        "colab_type": "code",
        "outputId": "a6f8eb30-33f8-44f7-c92b-39a3a9dc7d27",
        "colab": {
          "base_uri": "https://localhost:8080/",
          "height": 197
        }
      },
      "cell_type": "code",
      "source": [
        "alldata = pd.read_csv('/beacon/traj_path.csv',index_col=0)\n",
        "alldata.head()"
      ],
      "execution_count": 0,
      "outputs": [
        {
          "output_type": "execute_result",
          "data": {
            "text/html": [
              "<div>\n",
              "<style scoped>\n",
              "    .dataframe tbody tr th:only-of-type {\n",
              "        vertical-align: middle;\n",
              "    }\n",
              "\n",
              "    .dataframe tbody tr th {\n",
              "        vertical-align: top;\n",
              "    }\n",
              "\n",
              "    .dataframe thead th {\n",
              "        text-align: right;\n",
              "    }\n",
              "</style>\n",
              "<table border=\"1\" class=\"dataframe\">\n",
              "  <thead>\n",
              "    <tr style=\"text-align: right;\">\n",
              "      <th></th>\n",
              "      <th>timestamp</th>\n",
              "      <th>rssi1</th>\n",
              "      <th>rssi2</th>\n",
              "      <th>rssi3</th>\n",
              "      <th>path</th>\n",
              "    </tr>\n",
              "  </thead>\n",
              "  <tbody>\n",
              "    <tr>\n",
              "      <th>0</th>\n",
              "      <td>1552358042929</td>\n",
              "      <td>-58</td>\n",
              "      <td>-87</td>\n",
              "      <td>-94</td>\n",
              "      <td>1</td>\n",
              "    </tr>\n",
              "    <tr>\n",
              "      <th>1</th>\n",
              "      <td>1552358044042</td>\n",
              "      <td>-58</td>\n",
              "      <td>-85</td>\n",
              "      <td>-92</td>\n",
              "      <td>1</td>\n",
              "    </tr>\n",
              "    <tr>\n",
              "      <th>2</th>\n",
              "      <td>1552358046296</td>\n",
              "      <td>-55</td>\n",
              "      <td>-94</td>\n",
              "      <td>-87</td>\n",
              "      <td>1</td>\n",
              "    </tr>\n",
              "    <tr>\n",
              "      <th>3</th>\n",
              "      <td>1552358048556</td>\n",
              "      <td>-64</td>\n",
              "      <td>-84</td>\n",
              "      <td>-89</td>\n",
              "      <td>1</td>\n",
              "    </tr>\n",
              "    <tr>\n",
              "      <th>4</th>\n",
              "      <td>1552358055238</td>\n",
              "      <td>-82</td>\n",
              "      <td>-82</td>\n",
              "      <td>-89</td>\n",
              "      <td>1</td>\n",
              "    </tr>\n",
              "  </tbody>\n",
              "</table>\n",
              "</div>"
            ],
            "text/plain": [
              "       timestamp  rssi1  rssi2  rssi3  path\n",
              "0  1552358042929    -58    -87    -94     1\n",
              "1  1552358044042    -58    -85    -92     1\n",
              "2  1552358046296    -55    -94    -87     1\n",
              "3  1552358048556    -64    -84    -89     1\n",
              "4  1552358055238    -82    -82    -89     1"
            ]
          },
          "metadata": {
            "tags": []
          },
          "execution_count": 47
        }
      ]
    },
    {
      "metadata": {
        "id": "knxqZIptQqFF",
        "colab_type": "code",
        "colab": {}
      },
      "cell_type": "code",
      "source": [
        "test = alldata[['rssi1','rssi2','rssi3']]\n",
        "test_path = alldata['path']"
      ],
      "execution_count": 0,
      "outputs": []
    },
    {
      "metadata": {
        "id": "OFhPjJxCHmG4",
        "colab_type": "code",
        "colab": {}
      },
      "cell_type": "code",
      "source": [
        "test_svc = svc.predict(test)\n",
        "test_knn = knn.predict(test)\n",
        "test_rf = rf.predict(test)"
      ],
      "execution_count": 0,
      "outputs": []
    },
    {
      "metadata": {
        "id": "mmz33cvlHmbc",
        "colab_type": "code",
        "outputId": "441b7398-35fe-4129-cb34-17f0f97fe7fd",
        "colab": {
          "base_uri": "https://localhost:8080/",
          "height": 421
        }
      },
      "cell_type": "code",
      "source": [
        "actual = [21,27,33,37,48,55,62,86,147,152,157,174]\n",
        "rows_list = []\n",
        "for i in range(0, len(actual)):\n",
        "  dd = \"dict\"+ str(i)\n",
        "  dd ={}\n",
        "  dd.update({'Actual' :actual[i],'Path' : test_path[i],'RF' :test_rf[i] , 'KNN':test_knn[i] ,'SVC':test_svc[i] })\n",
        "  rows_list.append(dd)\n",
        "\n",
        "df2 = pd.DataFrame(rows_list)\n",
        "df2"
      ],
      "execution_count": 0,
      "outputs": [
        {
          "output_type": "execute_result",
          "data": {
            "text/html": [
              "<div>\n",
              "<style scoped>\n",
              "    .dataframe tbody tr th:only-of-type {\n",
              "        vertical-align: middle;\n",
              "    }\n",
              "\n",
              "    .dataframe tbody tr th {\n",
              "        vertical-align: top;\n",
              "    }\n",
              "\n",
              "    .dataframe thead th {\n",
              "        text-align: right;\n",
              "    }\n",
              "</style>\n",
              "<table border=\"1\" class=\"dataframe\">\n",
              "  <thead>\n",
              "    <tr style=\"text-align: right;\">\n",
              "      <th></th>\n",
              "      <th>Actual</th>\n",
              "      <th>KNN</th>\n",
              "      <th>Path</th>\n",
              "      <th>RF</th>\n",
              "      <th>SVC</th>\n",
              "    </tr>\n",
              "  </thead>\n",
              "  <tbody>\n",
              "    <tr>\n",
              "      <th>0</th>\n",
              "      <td>21</td>\n",
              "      <td>22</td>\n",
              "      <td>1</td>\n",
              "      <td>18</td>\n",
              "      <td>22</td>\n",
              "    </tr>\n",
              "    <tr>\n",
              "      <th>1</th>\n",
              "      <td>27</td>\n",
              "      <td>18</td>\n",
              "      <td>1</td>\n",
              "      <td>18</td>\n",
              "      <td>18</td>\n",
              "    </tr>\n",
              "    <tr>\n",
              "      <th>2</th>\n",
              "      <td>33</td>\n",
              "      <td>20</td>\n",
              "      <td>1</td>\n",
              "      <td>20</td>\n",
              "      <td>20</td>\n",
              "    </tr>\n",
              "    <tr>\n",
              "      <th>3</th>\n",
              "      <td>37</td>\n",
              "      <td>14</td>\n",
              "      <td>1</td>\n",
              "      <td>14</td>\n",
              "      <td>14</td>\n",
              "    </tr>\n",
              "    <tr>\n",
              "      <th>4</th>\n",
              "      <td>48</td>\n",
              "      <td>89</td>\n",
              "      <td>1</td>\n",
              "      <td>1</td>\n",
              "      <td>89</td>\n",
              "    </tr>\n",
              "    <tr>\n",
              "      <th>5</th>\n",
              "      <td>55</td>\n",
              "      <td>67</td>\n",
              "      <td>1</td>\n",
              "      <td>183</td>\n",
              "      <td>67</td>\n",
              "    </tr>\n",
              "    <tr>\n",
              "      <th>6</th>\n",
              "      <td>62</td>\n",
              "      <td>43</td>\n",
              "      <td>1</td>\n",
              "      <td>59</td>\n",
              "      <td>47</td>\n",
              "    </tr>\n",
              "    <tr>\n",
              "      <th>7</th>\n",
              "      <td>86</td>\n",
              "      <td>63</td>\n",
              "      <td>1</td>\n",
              "      <td>78</td>\n",
              "      <td>78</td>\n",
              "    </tr>\n",
              "    <tr>\n",
              "      <th>8</th>\n",
              "      <td>147</td>\n",
              "      <td>77</td>\n",
              "      <td>1</td>\n",
              "      <td>52</td>\n",
              "      <td>77</td>\n",
              "    </tr>\n",
              "    <tr>\n",
              "      <th>9</th>\n",
              "      <td>152</td>\n",
              "      <td>78</td>\n",
              "      <td>1</td>\n",
              "      <td>79</td>\n",
              "      <td>78</td>\n",
              "    </tr>\n",
              "    <tr>\n",
              "      <th>10</th>\n",
              "      <td>157</td>\n",
              "      <td>154</td>\n",
              "      <td>1</td>\n",
              "      <td>194</td>\n",
              "      <td>177</td>\n",
              "    </tr>\n",
              "    <tr>\n",
              "      <th>11</th>\n",
              "      <td>174</td>\n",
              "      <td>59</td>\n",
              "      <td>1</td>\n",
              "      <td>59</td>\n",
              "      <td>174</td>\n",
              "    </tr>\n",
              "  </tbody>\n",
              "</table>\n",
              "</div>"
            ],
            "text/plain": [
              "    Actual  KNN  Path   RF  SVC\n",
              "0       21   22     1   18   22\n",
              "1       27   18     1   18   18\n",
              "2       33   20     1   20   20\n",
              "3       37   14     1   14   14\n",
              "4       48   89     1    1   89\n",
              "5       55   67     1  183   67\n",
              "6       62   43     1   59   47\n",
              "7       86   63     1   78   78\n",
              "8      147   77     1   52   77\n",
              "9      152   78     1   79   78\n",
              "10     157  154     1  194  177\n",
              "11     174   59     1   59  174"
            ]
          },
          "metadata": {
            "tags": []
          },
          "execution_count": 50
        }
      ]
    },
    {
      "metadata": {
        "id": "WO5PvhFpmtpK",
        "colab_type": "code",
        "outputId": "7ad7044a-ff54-4cea-b88f-5969eb768a7c",
        "colab": {
          "base_uri": "https://localhost:8080/",
          "height": 204
        }
      },
      "cell_type": "code",
      "source": [
        "header=['block','lastid','x','y']\n",
        "train = train.dropna()\n",
        "train['lastid'] = train.lastid.astype(int)\n",
        "train.head()"
      ],
      "execution_count": 0,
      "outputs": [
        {
          "output_type": "execute_result",
          "data": {
            "text/html": [
              "<div>\n",
              "<style scoped>\n",
              "    .dataframe tbody tr th:only-of-type {\n",
              "        vertical-align: middle;\n",
              "    }\n",
              "\n",
              "    .dataframe tbody tr th {\n",
              "        vertical-align: top;\n",
              "    }\n",
              "\n",
              "    .dataframe thead th {\n",
              "        text-align: right;\n",
              "    }\n",
              "</style>\n",
              "<table border=\"1\" class=\"dataframe\">\n",
              "  <thead>\n",
              "    <tr style=\"text-align: right;\">\n",
              "      <th></th>\n",
              "      <th>block</th>\n",
              "      <th>lastid</th>\n",
              "      <th>x</th>\n",
              "      <th>y</th>\n",
              "    </tr>\n",
              "  </thead>\n",
              "  <tbody>\n",
              "    <tr>\n",
              "      <th>0</th>\n",
              "      <td>1</td>\n",
              "      <td>1548657400588</td>\n",
              "      <td>1.05</td>\n",
              "      <td>16.80</td>\n",
              "    </tr>\n",
              "    <tr>\n",
              "      <th>1</th>\n",
              "      <td>2</td>\n",
              "      <td>1548657451207</td>\n",
              "      <td>2.10</td>\n",
              "      <td>16.80</td>\n",
              "    </tr>\n",
              "    <tr>\n",
              "      <th>2</th>\n",
              "      <td>3</td>\n",
              "      <td>1548657485046</td>\n",
              "      <td>2.10</td>\n",
              "      <td>17.85</td>\n",
              "    </tr>\n",
              "    <tr>\n",
              "      <th>3</th>\n",
              "      <td>4</td>\n",
              "      <td>1548657801766</td>\n",
              "      <td>3.15</td>\n",
              "      <td>16.80</td>\n",
              "    </tr>\n",
              "    <tr>\n",
              "      <th>4</th>\n",
              "      <td>5</td>\n",
              "      <td>1548657849829</td>\n",
              "      <td>3.15</td>\n",
              "      <td>17.85</td>\n",
              "    </tr>\n",
              "  </tbody>\n",
              "</table>\n",
              "</div>"
            ],
            "text/plain": [
              "   block         lastid     x      y\n",
              "0      1  1548657400588  1.05  16.80\n",
              "1      2  1548657451207  2.10  16.80\n",
              "2      3  1548657485046  2.10  17.85\n",
              "3      4  1548657801766  3.15  16.80\n",
              "4      5  1548657849829  3.15  17.85"
            ]
          },
          "metadata": {
            "tags": []
          },
          "execution_count": 51
        }
      ]
    },
    {
      "metadata": {
        "id": "Iqh5GhMSm3zs",
        "colab_type": "code",
        "colab": {}
      },
      "cell_type": "code",
      "source": [
        "data=[]\n",
        "i=0\n",
        "for index2,row2 in df2.iterrows():\n",
        "    actual = row2['Actual']\n",
        "    knn = row2['KNN']\n",
        "    svc = row2['SVC']\n",
        "    rf = row2['RF']\n",
        "    for index,row in train.iterrows():\n",
        "      block = row['block'].astype(int)\n",
        "      x = row['x']\n",
        "      y = row['y']  \n",
        "      if block == actual:\n",
        "        row2['actual_x'] = x\n",
        "        row2['actual_y'] = y\n",
        "        i+=1\n",
        "      if block == knn:\n",
        "        row2['knn_x'] = x\n",
        "        row2['knn_y'] = y\n",
        "        i+=1\n",
        "      if block == svc:\n",
        "        row2['svc_x'] = x\n",
        "        row2['svc_y'] = y\n",
        "        i+=1\n",
        "      if block == rf:\n",
        "        row2['rf_x'] = x\n",
        "        row2['rf_y'] = y\n",
        "        i+=1\n",
        "      if i == 4:\n",
        "        data.append(row2)\n",
        "        i=0\n",
        "  \n",
        "    \n",
        "plot_data = pd.DataFrame(data)\n"
      ],
      "execution_count": 0,
      "outputs": []
    },
    {
      "metadata": {
        "id": "lpppfpXHoke0",
        "colab_type": "code",
        "outputId": "f4423212-d84e-4dfb-80dd-cf5e8d8367c4",
        "colab": {
          "base_uri": "https://localhost:8080/",
          "height": 204
        }
      },
      "cell_type": "code",
      "source": [
        "plot_data.head()"
      ],
      "execution_count": 0,
      "outputs": [
        {
          "output_type": "execute_result",
          "data": {
            "text/html": [
              "<div>\n",
              "<style scoped>\n",
              "    .dataframe tbody tr th:only-of-type {\n",
              "        vertical-align: middle;\n",
              "    }\n",
              "\n",
              "    .dataframe tbody tr th {\n",
              "        vertical-align: top;\n",
              "    }\n",
              "\n",
              "    .dataframe thead th {\n",
              "        text-align: right;\n",
              "    }\n",
              "</style>\n",
              "<table border=\"1\" class=\"dataframe\">\n",
              "  <thead>\n",
              "    <tr style=\"text-align: right;\">\n",
              "      <th></th>\n",
              "      <th>Actual</th>\n",
              "      <th>KNN</th>\n",
              "      <th>Path</th>\n",
              "      <th>RF</th>\n",
              "      <th>SVC</th>\n",
              "      <th>rf_x</th>\n",
              "      <th>rf_y</th>\n",
              "      <th>actual_x</th>\n",
              "      <th>actual_y</th>\n",
              "      <th>knn_x</th>\n",
              "      <th>knn_y</th>\n",
              "      <th>svc_x</th>\n",
              "      <th>svc_y</th>\n",
              "    </tr>\n",
              "  </thead>\n",
              "  <tbody>\n",
              "    <tr>\n",
              "      <th>0</th>\n",
              "      <td>21.0</td>\n",
              "      <td>22.0</td>\n",
              "      <td>1.0</td>\n",
              "      <td>18.0</td>\n",
              "      <td>22.0</td>\n",
              "      <td>10.50</td>\n",
              "      <td>16.8</td>\n",
              "      <td>11.55</td>\n",
              "      <td>17.85</td>\n",
              "      <td>12.60</td>\n",
              "      <td>16.8</td>\n",
              "      <td>12.60</td>\n",
              "      <td>16.8</td>\n",
              "    </tr>\n",
              "    <tr>\n",
              "      <th>1</th>\n",
              "      <td>27.0</td>\n",
              "      <td>18.0</td>\n",
              "      <td>1.0</td>\n",
              "      <td>18.0</td>\n",
              "      <td>18.0</td>\n",
              "      <td>10.50</td>\n",
              "      <td>16.8</td>\n",
              "      <td>14.70</td>\n",
              "      <td>17.85</td>\n",
              "      <td>10.50</td>\n",
              "      <td>16.8</td>\n",
              "      <td>10.50</td>\n",
              "      <td>16.8</td>\n",
              "    </tr>\n",
              "    <tr>\n",
              "      <th>2</th>\n",
              "      <td>33.0</td>\n",
              "      <td>20.0</td>\n",
              "      <td>1.0</td>\n",
              "      <td>20.0</td>\n",
              "      <td>20.0</td>\n",
              "      <td>11.55</td>\n",
              "      <td>16.8</td>\n",
              "      <td>17.85</td>\n",
              "      <td>17.85</td>\n",
              "      <td>11.55</td>\n",
              "      <td>16.8</td>\n",
              "      <td>11.55</td>\n",
              "      <td>16.8</td>\n",
              "    </tr>\n",
              "    <tr>\n",
              "      <th>3</th>\n",
              "      <td>37.0</td>\n",
              "      <td>14.0</td>\n",
              "      <td>1.0</td>\n",
              "      <td>14.0</td>\n",
              "      <td>14.0</td>\n",
              "      <td>8.40</td>\n",
              "      <td>16.8</td>\n",
              "      <td>19.95</td>\n",
              "      <td>17.85</td>\n",
              "      <td>8.40</td>\n",
              "      <td>16.8</td>\n",
              "      <td>8.40</td>\n",
              "      <td>16.8</td>\n",
              "    </tr>\n",
              "    <tr>\n",
              "      <th>4</th>\n",
              "      <td>48.0</td>\n",
              "      <td>89.0</td>\n",
              "      <td>1.0</td>\n",
              "      <td>1.0</td>\n",
              "      <td>89.0</td>\n",
              "      <td>1.05</td>\n",
              "      <td>16.8</td>\n",
              "      <td>22.05</td>\n",
              "      <td>17.85</td>\n",
              "      <td>27.30</td>\n",
              "      <td>21.0</td>\n",
              "      <td>27.30</td>\n",
              "      <td>21.0</td>\n",
              "    </tr>\n",
              "  </tbody>\n",
              "</table>\n",
              "</div>"
            ],
            "text/plain": [
              "   Actual   KNN  Path    RF   SVC   rf_x  rf_y  actual_x  actual_y  knn_x  \\\n",
              "0    21.0  22.0   1.0  18.0  22.0  10.50  16.8     11.55     17.85  12.60   \n",
              "1    27.0  18.0   1.0  18.0  18.0  10.50  16.8     14.70     17.85  10.50   \n",
              "2    33.0  20.0   1.0  20.0  20.0  11.55  16.8     17.85     17.85  11.55   \n",
              "3    37.0  14.0   1.0  14.0  14.0   8.40  16.8     19.95     17.85   8.40   \n",
              "4    48.0  89.0   1.0   1.0  89.0   1.05  16.8     22.05     17.85  27.30   \n",
              "\n",
              "   knn_y  svc_x  svc_y  \n",
              "0   16.8  12.60   16.8  \n",
              "1   16.8  10.50   16.8  \n",
              "2   16.8  11.55   16.8  \n",
              "3   16.8   8.40   16.8  \n",
              "4   21.0  27.30   21.0  "
            ]
          },
          "metadata": {
            "tags": []
          },
          "execution_count": 53
        }
      ]
    },
    {
      "metadata": {
        "id": "1zgx25DCHmML",
        "colab_type": "code",
        "outputId": "83797986-4994-43c3-f83f-d0e4e4cfa887",
        "colab": {
          "base_uri": "https://localhost:8080/",
          "height": 298
        }
      },
      "cell_type": "code",
      "source": [
        "\n",
        "plt.title('Trajectory KNN')\n",
        "plt.plot(plot_data['actual_x'],plot_data['actual_y'], '-bo',label='actual')\n",
        "plt.plot(plot_data['knn_x'],plot_data['knn_y'], '-ro',label='KNN')\n",
        "plt.legend(loc='upper left')\n",
        "plt.ylim(0,30)\n",
        "plt.xlim(0,40)"
      ],
      "execution_count": 0,
      "outputs": [
        {
          "output_type": "execute_result",
          "data": {
            "text/plain": [
              "(0, 40)"
            ]
          },
          "metadata": {
            "tags": []
          },
          "execution_count": 59
        },
        {
          "output_type": "display_data",
          "data": {
            "image/png": "[encoded data removed]",
            "text/plain": [
              "<Figure size 432x288 with 1 Axes>"
            ]
          },
          "metadata": {
            "tags": []
          }
        }
      ]
    },
    {
      "metadata": {
        "colab_type": "code",
        "outputId": "a2b4fc8f-9801-4f4c-bfd8-fab1414a2add",
        "id": "7OxrrgrAMsCU",
        "colab": {
          "base_uri": "https://localhost:8080/",
          "height": 298
        }
      },
      "cell_type": "code",
      "source": [
        "plt.title('Trajectory RF')\n",
        "plt.plot(plot_data['actual_x'],plot_data['actual_y'], '-bo',label='actual')\n",
        "plt.plot(plot_data['rf_x'],plot_data['rf_y'], '-yo',label='RF')\n",
        "plt.legend(loc='upper left')\n",
        "plt.ylim(0,30)\n",
        "plt.xlim(0,45)"
      ],
      "execution_count": 0,
      "outputs": [
        {
          "output_type": "execute_result",
          "data": {
            "text/plain": [
              "(0, 45)"
            ]
          },
          "metadata": {
            "tags": []
          },
          "execution_count": 57
        },
        {
          "output_type": "display_data",
          "data": {
            "image/png": "[encoded data removed]",
            "text/plain": [
              "<Figure size 432x288 with 1 Axes>"
            ]
          },
          "metadata": {
            "tags": []
          }
        }
      ]
    },
    {
      "metadata": {
        "colab_type": "code",
        "outputId": "15f716b8-3c0c-4637-ea7a-29c6261fefb8",
        "id": "QQJ_KwQmMrs6",
        "colab": {
          "base_uri": "https://localhost:8080/",
          "height": 298
        }
      },
      "cell_type": "code",
      "source": [
        "plt.title('Trajectory SVC')\n",
        "plt.plot(plot_data['actual_x'],plot_data['actual_y'], '-bo',label='actual')\n",
        "plt.plot(plot_data['svc_x'],plot_data['svc_y'], '-go',label='RF')\n",
        "plt.legend(loc='upper left')\n",
        "plt.ylim(0,30)\n",
        "plt.xlim(0,40)"
      ],
      "execution_count": 0,
      "outputs": [
        {
          "output_type": "execute_result",
          "data": {
            "text/plain": [
              "(0, 40)"
            ]
          },
          "metadata": {
            "tags": []
          },
          "execution_count": 60
        },
        {
          "output_type": "display_data",
          "data": {
            "image/png": "[encoded data removed]",
            "text/plain": [
              "<Figure size 432x288 with 1 Axes>"
            ]
          },
          "metadata": {
            "tags": []
          }
        }
      ]
    },
    {
      "metadata": {
        "colab_type": "code",
        "id": "My-z9SymMrbR",
        "colab": {}
      },
      "cell_type": "code",
      "source": [
        ""
      ],
      "execution_count": 0,
      "outputs": []
    }
  ]
}